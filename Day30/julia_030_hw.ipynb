{
 "cells": [
  {
   "cell_type": "markdown",
   "metadata": {},
   "source": [
    "# Julia 機器學習：DecisionTree 決策樹\n",
    "\n",
    "## 作業 030：乳癌預測資料集\n",
    "\n",
    "請使用隨機森林模型建立一個分類模型，來預測乳癌資料集中，為良性或是惡性的腫瘤。"
   ]
  },
  {
   "cell_type": "code",
   "execution_count": 31,
   "metadata": {},
   "outputs": [],
   "source": [
    "using DecisionTree, RDatasets, DataFrames, MLDataUtils, Statistics"
   ]
  },
  {
   "cell_type": "markdown",
   "metadata": {},
   "source": [
    "## 讀取資料"
   ]
  },
  {
   "cell_type": "code",
   "execution_count": 32,
   "metadata": {},
   "outputs": [
    {
     "data": {
      "text/html": [
       "<table class=\"data-frame\"><thead><tr><th></th><th>ID</th><th>V1</th><th>V2</th><th>V3</th><th>V4</th><th>V5</th><th>V6</th><th>V7</th><th>V8</th><th>V9</th><th>Class</th></tr><tr><th></th><th>String</th><th>Int32</th><th>Int32</th><th>Int32</th><th>Int32</th><th>Int32</th><th>Int32⍰</th><th>Int32</th><th>Int32</th><th>Int32</th><th>Categorical…</th></tr></thead><tbody><p>699 rows × 11 columns</p><tr><th>1</th><td>1000025</td><td>5</td><td>1</td><td>1</td><td>1</td><td>2</td><td>1</td><td>3</td><td>1</td><td>1</td><td>benign</td></tr><tr><th>2</th><td>1002945</td><td>5</td><td>4</td><td>4</td><td>5</td><td>7</td><td>10</td><td>3</td><td>2</td><td>1</td><td>benign</td></tr><tr><th>3</th><td>1015425</td><td>3</td><td>1</td><td>1</td><td>1</td><td>2</td><td>2</td><td>3</td><td>1</td><td>1</td><td>benign</td></tr><tr><th>4</th><td>1016277</td><td>6</td><td>8</td><td>8</td><td>1</td><td>3</td><td>4</td><td>3</td><td>7</td><td>1</td><td>benign</td></tr><tr><th>5</th><td>1017023</td><td>4</td><td>1</td><td>1</td><td>3</td><td>2</td><td>1</td><td>3</td><td>1</td><td>1</td><td>benign</td></tr><tr><th>6</th><td>1017122</td><td>8</td><td>10</td><td>10</td><td>8</td><td>7</td><td>10</td><td>9</td><td>7</td><td>1</td><td>malignant</td></tr><tr><th>7</th><td>1018099</td><td>1</td><td>1</td><td>1</td><td>1</td><td>2</td><td>10</td><td>3</td><td>1</td><td>1</td><td>benign</td></tr><tr><th>8</th><td>1018561</td><td>2</td><td>1</td><td>2</td><td>1</td><td>2</td><td>1</td><td>3</td><td>1</td><td>1</td><td>benign</td></tr><tr><th>9</th><td>1033078</td><td>2</td><td>1</td><td>1</td><td>1</td><td>2</td><td>1</td><td>1</td><td>1</td><td>5</td><td>benign</td></tr><tr><th>10</th><td>1033078</td><td>4</td><td>2</td><td>1</td><td>1</td><td>2</td><td>1</td><td>2</td><td>1</td><td>1</td><td>benign</td></tr><tr><th>11</th><td>1035283</td><td>1</td><td>1</td><td>1</td><td>1</td><td>1</td><td>1</td><td>3</td><td>1</td><td>1</td><td>benign</td></tr><tr><th>12</th><td>1036172</td><td>2</td><td>1</td><td>1</td><td>1</td><td>2</td><td>1</td><td>2</td><td>1</td><td>1</td><td>benign</td></tr><tr><th>13</th><td>1041801</td><td>5</td><td>3</td><td>3</td><td>3</td><td>2</td><td>3</td><td>4</td><td>4</td><td>1</td><td>malignant</td></tr><tr><th>14</th><td>1043999</td><td>1</td><td>1</td><td>1</td><td>1</td><td>2</td><td>3</td><td>3</td><td>1</td><td>1</td><td>benign</td></tr><tr><th>15</th><td>1044572</td><td>8</td><td>7</td><td>5</td><td>10</td><td>7</td><td>9</td><td>5</td><td>5</td><td>4</td><td>malignant</td></tr><tr><th>16</th><td>1047630</td><td>7</td><td>4</td><td>6</td><td>4</td><td>6</td><td>1</td><td>4</td><td>3</td><td>1</td><td>malignant</td></tr><tr><th>17</th><td>1048672</td><td>4</td><td>1</td><td>1</td><td>1</td><td>2</td><td>1</td><td>2</td><td>1</td><td>1</td><td>benign</td></tr><tr><th>18</th><td>1049815</td><td>4</td><td>1</td><td>1</td><td>1</td><td>2</td><td>1</td><td>3</td><td>1</td><td>1</td><td>benign</td></tr><tr><th>19</th><td>1050670</td><td>10</td><td>7</td><td>7</td><td>6</td><td>4</td><td>10</td><td>4</td><td>1</td><td>2</td><td>malignant</td></tr><tr><th>20</th><td>1050718</td><td>6</td><td>1</td><td>1</td><td>1</td><td>2</td><td>1</td><td>3</td><td>1</td><td>1</td><td>benign</td></tr><tr><th>21</th><td>1054590</td><td>7</td><td>3</td><td>2</td><td>10</td><td>5</td><td>10</td><td>5</td><td>4</td><td>4</td><td>malignant</td></tr><tr><th>22</th><td>1054593</td><td>10</td><td>5</td><td>5</td><td>3</td><td>6</td><td>7</td><td>7</td><td>10</td><td>1</td><td>malignant</td></tr><tr><th>23</th><td>1056784</td><td>3</td><td>1</td><td>1</td><td>1</td><td>2</td><td>1</td><td>2</td><td>1</td><td>1</td><td>benign</td></tr><tr><th>24</th><td>1057013</td><td>8</td><td>4</td><td>5</td><td>1</td><td>2</td><td>missing</td><td>7</td><td>3</td><td>1</td><td>malignant</td></tr><tr><th>25</th><td>1059552</td><td>1</td><td>1</td><td>1</td><td>1</td><td>2</td><td>1</td><td>3</td><td>1</td><td>1</td><td>benign</td></tr><tr><th>26</th><td>1065726</td><td>5</td><td>2</td><td>3</td><td>4</td><td>2</td><td>7</td><td>3</td><td>6</td><td>1</td><td>malignant</td></tr><tr><th>27</th><td>1066373</td><td>3</td><td>2</td><td>1</td><td>1</td><td>1</td><td>1</td><td>2</td><td>1</td><td>1</td><td>benign</td></tr><tr><th>28</th><td>1066979</td><td>5</td><td>1</td><td>1</td><td>1</td><td>2</td><td>1</td><td>2</td><td>1</td><td>1</td><td>benign</td></tr><tr><th>29</th><td>1067444</td><td>2</td><td>1</td><td>1</td><td>1</td><td>2</td><td>1</td><td>2</td><td>1</td><td>1</td><td>benign</td></tr><tr><th>30</th><td>1070935</td><td>1</td><td>1</td><td>3</td><td>1</td><td>2</td><td>1</td><td>1</td><td>1</td><td>1</td><td>benign</td></tr><tr><th>&vellip;</th><td>&vellip;</td><td>&vellip;</td><td>&vellip;</td><td>&vellip;</td><td>&vellip;</td><td>&vellip;</td><td>&vellip;</td><td>&vellip;</td><td>&vellip;</td><td>&vellip;</td><td>&vellip;</td></tr></tbody></table>"
      ],
      "text/latex": [
       "\\begin{tabular}{r|ccccccccccc}\n",
       "\t& ID & V1 & V2 & V3 & V4 & V5 & V6 & V7 & V8 & V9 & Class\\\\\n",
       "\t\\hline\n",
       "\t& String & Int32 & Int32 & Int32 & Int32 & Int32 & Int32⍰ & Int32 & Int32 & Int32 & Categorical…\\\\\n",
       "\t\\hline\n",
       "\t1 & 1000025 & 5 & 1 & 1 & 1 & 2 & 1 & 3 & 1 & 1 & benign \\\\\n",
       "\t2 & 1002945 & 5 & 4 & 4 & 5 & 7 & 10 & 3 & 2 & 1 & benign \\\\\n",
       "\t3 & 1015425 & 3 & 1 & 1 & 1 & 2 & 2 & 3 & 1 & 1 & benign \\\\\n",
       "\t4 & 1016277 & 6 & 8 & 8 & 1 & 3 & 4 & 3 & 7 & 1 & benign \\\\\n",
       "\t5 & 1017023 & 4 & 1 & 1 & 3 & 2 & 1 & 3 & 1 & 1 & benign \\\\\n",
       "\t6 & 1017122 & 8 & 10 & 10 & 8 & 7 & 10 & 9 & 7 & 1 & malignant \\\\\n",
       "\t7 & 1018099 & 1 & 1 & 1 & 1 & 2 & 10 & 3 & 1 & 1 & benign \\\\\n",
       "\t8 & 1018561 & 2 & 1 & 2 & 1 & 2 & 1 & 3 & 1 & 1 & benign \\\\\n",
       "\t9 & 1033078 & 2 & 1 & 1 & 1 & 2 & 1 & 1 & 1 & 5 & benign \\\\\n",
       "\t10 & 1033078 & 4 & 2 & 1 & 1 & 2 & 1 & 2 & 1 & 1 & benign \\\\\n",
       "\t11 & 1035283 & 1 & 1 & 1 & 1 & 1 & 1 & 3 & 1 & 1 & benign \\\\\n",
       "\t12 & 1036172 & 2 & 1 & 1 & 1 & 2 & 1 & 2 & 1 & 1 & benign \\\\\n",
       "\t13 & 1041801 & 5 & 3 & 3 & 3 & 2 & 3 & 4 & 4 & 1 & malignant \\\\\n",
       "\t14 & 1043999 & 1 & 1 & 1 & 1 & 2 & 3 & 3 & 1 & 1 & benign \\\\\n",
       "\t15 & 1044572 & 8 & 7 & 5 & 10 & 7 & 9 & 5 & 5 & 4 & malignant \\\\\n",
       "\t16 & 1047630 & 7 & 4 & 6 & 4 & 6 & 1 & 4 & 3 & 1 & malignant \\\\\n",
       "\t17 & 1048672 & 4 & 1 & 1 & 1 & 2 & 1 & 2 & 1 & 1 & benign \\\\\n",
       "\t18 & 1049815 & 4 & 1 & 1 & 1 & 2 & 1 & 3 & 1 & 1 & benign \\\\\n",
       "\t19 & 1050670 & 10 & 7 & 7 & 6 & 4 & 10 & 4 & 1 & 2 & malignant \\\\\n",
       "\t20 & 1050718 & 6 & 1 & 1 & 1 & 2 & 1 & 3 & 1 & 1 & benign \\\\\n",
       "\t21 & 1054590 & 7 & 3 & 2 & 10 & 5 & 10 & 5 & 4 & 4 & malignant \\\\\n",
       "\t22 & 1054593 & 10 & 5 & 5 & 3 & 6 & 7 & 7 & 10 & 1 & malignant \\\\\n",
       "\t23 & 1056784 & 3 & 1 & 1 & 1 & 2 & 1 & 2 & 1 & 1 & benign \\\\\n",
       "\t24 & 1057013 & 8 & 4 & 5 & 1 & 2 &  & 7 & 3 & 1 & malignant \\\\\n",
       "\t25 & 1059552 & 1 & 1 & 1 & 1 & 2 & 1 & 3 & 1 & 1 & benign \\\\\n",
       "\t26 & 1065726 & 5 & 2 & 3 & 4 & 2 & 7 & 3 & 6 & 1 & malignant \\\\\n",
       "\t27 & 1066373 & 3 & 2 & 1 & 1 & 1 & 1 & 2 & 1 & 1 & benign \\\\\n",
       "\t28 & 1066979 & 5 & 1 & 1 & 1 & 2 & 1 & 2 & 1 & 1 & benign \\\\\n",
       "\t29 & 1067444 & 2 & 1 & 1 & 1 & 2 & 1 & 2 & 1 & 1 & benign \\\\\n",
       "\t30 & 1070935 & 1 & 1 & 3 & 1 & 2 & 1 & 1 & 1 & 1 & benign \\\\\n",
       "\t$\\dots$ & $\\dots$ & $\\dots$ & $\\dots$ & $\\dots$ & $\\dots$ & $\\dots$ & $\\dots$ & $\\dots$ & $\\dots$ & $\\dots$ & $\\dots$ \\\\\n",
       "\\end{tabular}\n"
      ],
      "text/plain": [
       "699×11 DataFrame. Omitted printing of 3 columns\n",
       "│ Row │ ID      │ V1    │ V2    │ V3    │ V4    │ V5    │ V6     │ V7    │\n",
       "│     │ \u001b[90mString\u001b[39m  │ \u001b[90mInt32\u001b[39m │ \u001b[90mInt32\u001b[39m │ \u001b[90mInt32\u001b[39m │ \u001b[90mInt32\u001b[39m │ \u001b[90mInt32\u001b[39m │ \u001b[90mInt32⍰\u001b[39m │ \u001b[90mInt32\u001b[39m │\n",
       "├─────┼─────────┼───────┼───────┼───────┼───────┼───────┼────────┼───────┤\n",
       "│ 1   │ 1000025 │ 5     │ 1     │ 1     │ 1     │ 2     │ 1      │ 3     │\n",
       "│ 2   │ 1002945 │ 5     │ 4     │ 4     │ 5     │ 7     │ 10     │ 3     │\n",
       "│ 3   │ 1015425 │ 3     │ 1     │ 1     │ 1     │ 2     │ 2      │ 3     │\n",
       "│ 4   │ 1016277 │ 6     │ 8     │ 8     │ 1     │ 3     │ 4      │ 3     │\n",
       "│ 5   │ 1017023 │ 4     │ 1     │ 1     │ 3     │ 2     │ 1      │ 3     │\n",
       "│ 6   │ 1017122 │ 8     │ 10    │ 10    │ 8     │ 7     │ 10     │ 9     │\n",
       "│ 7   │ 1018099 │ 1     │ 1     │ 1     │ 1     │ 2     │ 10     │ 3     │\n",
       "│ 8   │ 1018561 │ 2     │ 1     │ 2     │ 1     │ 2     │ 1      │ 3     │\n",
       "│ 9   │ 1033078 │ 2     │ 1     │ 1     │ 1     │ 2     │ 1      │ 1     │\n",
       "│ 10  │ 1033078 │ 4     │ 2     │ 1     │ 1     │ 2     │ 1      │ 2     │\n",
       "⋮\n",
       "│ 689 │ 603148  │ 4     │ 1     │ 1     │ 1     │ 2     │ 1      │ 1     │\n",
       "│ 690 │ 654546  │ 1     │ 1     │ 1     │ 1     │ 2     │ 1      │ 1     │\n",
       "│ 691 │ 654546  │ 1     │ 1     │ 1     │ 3     │ 2     │ 1      │ 1     │\n",
       "│ 692 │ 695091  │ 5     │ 10    │ 10    │ 5     │ 4     │ 5      │ 4     │\n",
       "│ 693 │ 714039  │ 3     │ 1     │ 1     │ 1     │ 2     │ 1      │ 1     │\n",
       "│ 694 │ 763235  │ 3     │ 1     │ 1     │ 1     │ 2     │ 1      │ 2     │\n",
       "│ 695 │ 776715  │ 3     │ 1     │ 1     │ 1     │ 3     │ 2      │ 1     │\n",
       "│ 696 │ 841769  │ 2     │ 1     │ 1     │ 1     │ 2     │ 1      │ 1     │\n",
       "│ 697 │ 888820  │ 5     │ 10    │ 10    │ 3     │ 7     │ 3      │ 8     │\n",
       "│ 698 │ 897471  │ 4     │ 8     │ 6     │ 4     │ 3     │ 4      │ 10    │\n",
       "│ 699 │ 897471  │ 4     │ 8     │ 8     │ 5     │ 4     │ 5      │ 10    │"
      ]
     },
     "execution_count": 32,
     "metadata": {},
     "output_type": "execute_result"
    }
   ],
   "source": [
    "biopsy = dataset(\"MASS\", \"biopsy\")"
   ]
  },
  {
   "cell_type": "code",
   "execution_count": 33,
   "metadata": {},
   "outputs": [
    {
     "data": {
      "text/html": [
       "<table class=\"data-frame\"><thead><tr><th></th><th>variable</th><th>mean</th><th>min</th><th>median</th><th>max</th><th>nunique</th><th>nmissing</th><th>eltype</th></tr><tr><th></th><th>Symbol</th><th>Union…</th><th>Any</th><th>Union…</th><th>Any</th><th>Union…</th><th>Union…</th><th>Type</th></tr></thead><tbody><p>11 rows × 8 columns</p><tr><th>1</th><td>ID</td><td></td><td>1000025</td><td></td><td>95719</td><td>645</td><td></td><td>String</td></tr><tr><th>2</th><td>V1</td><td>4.41774</td><td>1</td><td>4.0</td><td>10</td><td></td><td></td><td>Int32</td></tr><tr><th>3</th><td>V2</td><td>3.13448</td><td>1</td><td>1.0</td><td>10</td><td></td><td></td><td>Int32</td></tr><tr><th>4</th><td>V3</td><td>3.20744</td><td>1</td><td>1.0</td><td>10</td><td></td><td></td><td>Int32</td></tr><tr><th>5</th><td>V4</td><td>2.80687</td><td>1</td><td>1.0</td><td>10</td><td></td><td></td><td>Int32</td></tr><tr><th>6</th><td>V5</td><td>3.21602</td><td>1</td><td>2.0</td><td>10</td><td></td><td></td><td>Int32</td></tr><tr><th>7</th><td>V6</td><td>3.54466</td><td>1</td><td>1.0</td><td>10</td><td></td><td>16</td><td>Union{Missing, Int32}</td></tr><tr><th>8</th><td>V7</td><td>3.43777</td><td>1</td><td>3.0</td><td>10</td><td></td><td></td><td>Int32</td></tr><tr><th>9</th><td>V8</td><td>2.86695</td><td>1</td><td>1.0</td><td>10</td><td></td><td></td><td>Int32</td></tr><tr><th>10</th><td>V9</td><td>1.58941</td><td>1</td><td>1.0</td><td>10</td><td></td><td></td><td>Int32</td></tr><tr><th>11</th><td>Class</td><td></td><td>benign</td><td></td><td>malignant</td><td>2</td><td></td><td>CategoricalString{UInt8}</td></tr></tbody></table>"
      ],
      "text/latex": [
       "\\begin{tabular}{r|cccccccc}\n",
       "\t& variable & mean & min & median & max & nunique & nmissing & eltype\\\\\n",
       "\t\\hline\n",
       "\t& Symbol & Union… & Any & Union… & Any & Union… & Union… & Type\\\\\n",
       "\t\\hline\n",
       "\t1 & ID &  & 1000025 &  & 95719 & 645 &  & String \\\\\n",
       "\t2 & V1 & 4.41774 & 1 & 4.0 & 10 &  &  & Int32 \\\\\n",
       "\t3 & V2 & 3.13448 & 1 & 1.0 & 10 &  &  & Int32 \\\\\n",
       "\t4 & V3 & 3.20744 & 1 & 1.0 & 10 &  &  & Int32 \\\\\n",
       "\t5 & V4 & 2.80687 & 1 & 1.0 & 10 &  &  & Int32 \\\\\n",
       "\t6 & V5 & 3.21602 & 1 & 2.0 & 10 &  &  & Int32 \\\\\n",
       "\t7 & V6 & 3.54466 & 1 & 1.0 & 10 &  & 16 & Union\\{Missing, Int32\\} \\\\\n",
       "\t8 & V7 & 3.43777 & 1 & 3.0 & 10 &  &  & Int32 \\\\\n",
       "\t9 & V8 & 2.86695 & 1 & 1.0 & 10 &  &  & Int32 \\\\\n",
       "\t10 & V9 & 1.58941 & 1 & 1.0 & 10 &  &  & Int32 \\\\\n",
       "\t11 & Class &  & benign &  & malignant & 2 &  & CategoricalString\\{UInt8\\} \\\\\n",
       "\\end{tabular}\n"
      ],
      "text/plain": [
       "11×8 DataFrame. Omitted printing of 1 columns\n",
       "│ Row │ variable │ mean    │ min     │ median │ max       │ nunique │ nmissing │\n",
       "│     │ \u001b[90mSymbol\u001b[39m   │ \u001b[90mUnion…\u001b[39m  │ \u001b[90mAny\u001b[39m     │ \u001b[90mUnion…\u001b[39m │ \u001b[90mAny\u001b[39m       │ \u001b[90mUnion…\u001b[39m  │ \u001b[90mUnion…\u001b[39m   │\n",
       "├─────┼──────────┼─────────┼─────────┼────────┼───────────┼─────────┼──────────┤\n",
       "│ 1   │ ID       │         │ 1000025 │        │ 95719     │ 645     │          │\n",
       "│ 2   │ V1       │ 4.41774 │ 1       │ 4.0    │ 10        │         │          │\n",
       "│ 3   │ V2       │ 3.13448 │ 1       │ 1.0    │ 10        │         │          │\n",
       "│ 4   │ V3       │ 3.20744 │ 1       │ 1.0    │ 10        │         │          │\n",
       "│ 5   │ V4       │ 2.80687 │ 1       │ 1.0    │ 10        │         │          │\n",
       "│ 6   │ V5       │ 3.21602 │ 1       │ 2.0    │ 10        │         │          │\n",
       "│ 7   │ V6       │ 3.54466 │ 1       │ 1.0    │ 10        │         │ 16       │\n",
       "│ 8   │ V7       │ 3.43777 │ 1       │ 3.0    │ 10        │         │          │\n",
       "│ 9   │ V8       │ 2.86695 │ 1       │ 1.0    │ 10        │         │          │\n",
       "│ 10  │ V9       │ 1.58941 │ 1       │ 1.0    │ 10        │         │          │\n",
       "│ 11  │ Class    │         │ benign  │        │ malignant │ 2       │          │"
      ]
     },
     "execution_count": 33,
     "metadata": {},
     "output_type": "execute_result"
    }
   ],
   "source": [
    "describe(biopsy)"
   ]
  },
  {
   "cell_type": "code",
   "execution_count": 34,
   "metadata": {},
   "outputs": [],
   "source": [
    "using StatsBase"
   ]
  },
  {
   "cell_type": "code",
   "execution_count": 35,
   "metadata": {},
   "outputs": [
    {
     "name": "stdout",
     "output_type": "stream",
     "text": [
      "Dict{Union{Missing, Int32},Int64}(2 => 30,7 => 8,9 => 9,10 => 132,8 => 21,6 => 4,4 => 19,3 => 28,5 => 30,1 => 402)\n"
     ]
    },
    {
     "data": {
      "text/plain": [
       "699-element Array{Int32,1}:\n",
       "  1\n",
       " 10\n",
       "  2\n",
       "  4\n",
       "  1\n",
       " 10\n",
       " 10\n",
       "  1\n",
       "  1\n",
       "  1\n",
       "  1\n",
       "  1\n",
       "  3\n",
       "  ⋮\n",
       "  1\n",
       "  1\n",
       "  1\n",
       "  1\n",
       "  5\n",
       "  1\n",
       "  1\n",
       "  2\n",
       "  1\n",
       "  3\n",
       "  4\n",
       "  5"
      ]
     },
     "execution_count": 35,
     "metadata": {},
     "output_type": "execute_result"
    }
   ],
   "source": [
    "v6 = biopsy[!, :V6]\n",
    "freq = countmap(v6)\n",
    "delete!(freq, missing)\n",
    "println(freq)\n",
    "most_freq_v6 = first(keys(sort(freq, by = last, rev=true)))\n",
    "biopsy[!, :V6] = coalesce.(v6, most_freq_v6)"
   ]
  },
  {
   "cell_type": "code",
   "execution_count": 36,
   "metadata": {},
   "outputs": [
    {
     "data": {
      "text/html": [
       "<table class=\"data-frame\"><thead><tr><th></th><th>variable</th><th>mean</th><th>min</th><th>median</th><th>max</th><th>nunique</th><th>nmissing</th><th>eltype</th></tr><tr><th></th><th>Symbol</th><th>Union…</th><th>Any</th><th>Union…</th><th>Any</th><th>Union…</th><th>Nothing</th><th>DataType</th></tr></thead><tbody><p>11 rows × 8 columns</p><tr><th>1</th><td>ID</td><td></td><td>1000025</td><td></td><td>95719</td><td>645</td><td></td><td>String</td></tr><tr><th>2</th><td>V1</td><td>4.41774</td><td>1</td><td>4.0</td><td>10</td><td></td><td></td><td>Int32</td></tr><tr><th>3</th><td>V2</td><td>3.13448</td><td>1</td><td>1.0</td><td>10</td><td></td><td></td><td>Int32</td></tr><tr><th>4</th><td>V3</td><td>3.20744</td><td>1</td><td>1.0</td><td>10</td><td></td><td></td><td>Int32</td></tr><tr><th>5</th><td>V4</td><td>2.80687</td><td>1</td><td>1.0</td><td>10</td><td></td><td></td><td>Int32</td></tr><tr><th>6</th><td>V5</td><td>3.21602</td><td>1</td><td>2.0</td><td>10</td><td></td><td></td><td>Int32</td></tr><tr><th>7</th><td>V6</td><td>3.69242</td><td>1</td><td>1.0</td><td>10</td><td></td><td></td><td>Int32</td></tr><tr><th>8</th><td>V7</td><td>3.43777</td><td>1</td><td>3.0</td><td>10</td><td></td><td></td><td>Int32</td></tr><tr><th>9</th><td>V8</td><td>2.86695</td><td>1</td><td>1.0</td><td>10</td><td></td><td></td><td>Int32</td></tr><tr><th>10</th><td>V9</td><td>1.58941</td><td>1</td><td>1.0</td><td>10</td><td></td><td></td><td>Int32</td></tr><tr><th>11</th><td>Class</td><td></td><td>benign</td><td></td><td>malignant</td><td>2</td><td></td><td>CategoricalString{UInt8}</td></tr></tbody></table>"
      ],
      "text/latex": [
       "\\begin{tabular}{r|cccccccc}\n",
       "\t& variable & mean & min & median & max & nunique & nmissing & eltype\\\\\n",
       "\t\\hline\n",
       "\t& Symbol & Union… & Any & Union… & Any & Union… & Nothing & DataType\\\\\n",
       "\t\\hline\n",
       "\t1 & ID &  & 1000025 &  & 95719 & 645 &  & String \\\\\n",
       "\t2 & V1 & 4.41774 & 1 & 4.0 & 10 &  &  & Int32 \\\\\n",
       "\t3 & V2 & 3.13448 & 1 & 1.0 & 10 &  &  & Int32 \\\\\n",
       "\t4 & V3 & 3.20744 & 1 & 1.0 & 10 &  &  & Int32 \\\\\n",
       "\t5 & V4 & 2.80687 & 1 & 1.0 & 10 &  &  & Int32 \\\\\n",
       "\t6 & V5 & 3.21602 & 1 & 2.0 & 10 &  &  & Int32 \\\\\n",
       "\t7 & V6 & 3.69242 & 1 & 1.0 & 10 &  &  & Int32 \\\\\n",
       "\t8 & V7 & 3.43777 & 1 & 3.0 & 10 &  &  & Int32 \\\\\n",
       "\t9 & V8 & 2.86695 & 1 & 1.0 & 10 &  &  & Int32 \\\\\n",
       "\t10 & V9 & 1.58941 & 1 & 1.0 & 10 &  &  & Int32 \\\\\n",
       "\t11 & Class &  & benign &  & malignant & 2 &  & CategoricalString\\{UInt8\\} \\\\\n",
       "\\end{tabular}\n"
      ],
      "text/plain": [
       "11×8 DataFrame. Omitted printing of 1 columns\n",
       "│ Row │ variable │ mean    │ min     │ median │ max       │ nunique │ nmissing │\n",
       "│     │ \u001b[90mSymbol\u001b[39m   │ \u001b[90mUnion…\u001b[39m  │ \u001b[90mAny\u001b[39m     │ \u001b[90mUnion…\u001b[39m │ \u001b[90mAny\u001b[39m       │ \u001b[90mUnion…\u001b[39m  │ \u001b[90mNothing\u001b[39m  │\n",
       "├─────┼──────────┼─────────┼─────────┼────────┼───────────┼─────────┼──────────┤\n",
       "│ 1   │ ID       │         │ 1000025 │        │ 95719     │ 645     │          │\n",
       "│ 2   │ V1       │ 4.41774 │ 1       │ 4.0    │ 10        │         │          │\n",
       "│ 3   │ V2       │ 3.13448 │ 1       │ 1.0    │ 10        │         │          │\n",
       "│ 4   │ V3       │ 3.20744 │ 1       │ 1.0    │ 10        │         │          │\n",
       "│ 5   │ V4       │ 2.80687 │ 1       │ 1.0    │ 10        │         │          │\n",
       "│ 6   │ V5       │ 3.21602 │ 1       │ 2.0    │ 10        │         │          │\n",
       "│ 7   │ V6       │ 3.69242 │ 1       │ 1.0    │ 10        │         │          │\n",
       "│ 8   │ V7       │ 3.43777 │ 1       │ 3.0    │ 10        │         │          │\n",
       "│ 9   │ V8       │ 2.86695 │ 1       │ 1.0    │ 10        │         │          │\n",
       "│ 10  │ V9       │ 1.58941 │ 1       │ 1.0    │ 10        │         │          │\n",
       "│ 11  │ Class    │         │ benign  │        │ malignant │ 2       │          │"
      ]
     },
     "execution_count": 36,
     "metadata": {},
     "output_type": "execute_result"
    }
   ],
   "source": [
    "describe(biopsy)"
   ]
  },
  {
   "cell_type": "code",
   "execution_count": 37,
   "metadata": {},
   "outputs": [
    {
     "data": {
      "text/plain": [
       "RandomForestClassifier\n",
       "n_trees:             10\n",
       "n_subfeatures:       -1\n",
       "partial_sampling:    0.7\n",
       "max_depth:           -1\n",
       "min_samples_leaf:    1\n",
       "min_samples_split:   2\n",
       "min_purity_increase: 0.0\n",
       "classes:             nothing\n",
       "ensemble:            nothing"
      ]
     },
     "execution_count": 37,
     "metadata": {},
     "output_type": "execute_result"
    }
   ],
   "source": [
    "rfModel = DecisionTree.RandomForestClassifier()"
   ]
  },
  {
   "cell_type": "code",
   "execution_count": 44,
   "metadata": {},
   "outputs": [
    {
     "data": {
      "text/plain": [
       "699-element Array{String,1}:\n",
       " \"benign\"\n",
       " \"benign\"\n",
       " \"benign\"\n",
       " \"benign\"\n",
       " \"benign\"\n",
       " \"malignant\"\n",
       " \"benign\"\n",
       " \"benign\"\n",
       " \"benign\"\n",
       " \"benign\"\n",
       " \"benign\"\n",
       " \"benign\"\n",
       " \"malignant\"\n",
       " ⋮\n",
       " \"benign\"\n",
       " \"benign\"\n",
       " \"benign\"\n",
       " \"benign\"\n",
       " \"malignant\"\n",
       " \"benign\"\n",
       " \"benign\"\n",
       " \"benign\"\n",
       " \"benign\"\n",
       " \"malignant\"\n",
       " \"malignant\"\n",
       " \"malignant\""
      ]
     },
     "execution_count": 44,
     "metadata": {},
     "output_type": "execute_result"
    }
   ],
   "source": [
    "features = Matrix(float.(biopsy[!, 2:10]))\n",
    "labels = Vector{String}(biopsy[!, :Class])"
   ]
  },
  {
   "cell_type": "code",
   "execution_count": 49,
   "metadata": {},
   "outputs": [
    {
     "data": {
      "text/plain": [
       "2×2 Array{Int64,2}:\n",
       " 92   0\n",
       "  2  45"
      ]
     },
     "metadata": {},
     "output_type": "display_data"
    },
    {
     "data": {
      "text/plain": [
       "2×2 Array{Int64,2}:\n",
       " 91   2\n",
       "  0  46"
      ]
     },
     "metadata": {},
     "output_type": "display_data"
    },
    {
     "data": {
      "text/plain": [
       "2×2 Array{Int64,2}:\n",
       " 88   1\n",
       "  0  50"
      ]
     },
     "metadata": {},
     "output_type": "display_data"
    },
    {
     "data": {
      "text/plain": [
       "2×2 Array{Int64,2}:\n",
       " 93   1\n",
       "  0  45"
      ]
     },
     "metadata": {},
     "output_type": "display_data"
    },
    {
     "data": {
      "text/plain": [
       "2×2 Array{Int64,2}:\n",
       " 87   1\n",
       "  0  51"
      ]
     },
     "metadata": {},
     "output_type": "display_data"
    },
    {
     "name": "stdout",
     "output_type": "stream",
     "text": [
      "\n",
      "Fold 1\n",
      "Classes:  [\"benign\", \"malignant\"]\n",
      "Matrix:   \n",
      "Accuracy: 0.9856115107913669\n",
      "Kappa:    0.9675157747137181\n",
      "\n",
      "Fold 2\n",
      "Classes:  [\"benign\", \"malignant\"]\n",
      "Matrix:   \n",
      "Accuracy: 0.9856115107913669\n",
      "Kappa:    0.9678612716763005\n",
      "\n",
      "Fold 3\n",
      "Classes:  [\"benign\", \"malignant\"]\n",
      "Matrix:   \n",
      "Accuracy: 0.9928057553956835\n",
      "Kappa:    0.9844501622105382\n",
      "\n",
      "Fold 4\n",
      "Classes:  [\"benign\", \"malignant\"]\n",
      "Matrix:   \n",
      "Accuracy: 0.9928057553956835\n",
      "Kappa:    0.9836643553884123\n",
      "\n",
      "Fold 5\n",
      "Classes:  [\"benign\", \"malignant\"]\n",
      "Matrix:   \n",
      "Accuracy: 0.9928057553956835\n",
      "Kappa:    0.984577832020415\n",
      "\n",
      "Mean Accuracy: 0.9899280575539569\n"
     ]
    },
    {
     "data": {
      "text/plain": [
       "5-element Array{Float64,1}:\n",
       " 0.9856115107913669\n",
       " 0.9856115107913669\n",
       " 0.9928057553956835\n",
       " 0.9928057553956835\n",
       " 0.9928057553956835"
      ]
     },
     "execution_count": 49,
     "metadata": {},
     "output_type": "execute_result"
    }
   ],
   "source": [
    "#DecisionTree.fit!(rfModel, features, labels)\n",
    "#model = build_forest(labels, features)\n",
    "accuracy = nfoldCV_forest(labels, features, 5)"
   ]
  }
 ],
 "metadata": {
  "kernelspec": {
   "display_name": "Julia 1.4.0",
   "language": "julia",
   "name": "julia-1.4"
  },
  "language_info": {
   "file_extension": ".jl",
   "mimetype": "application/julia",
   "name": "julia",
   "version": "1.4.0"
  }
 },
 "nbformat": 4,
 "nbformat_minor": 4
}
