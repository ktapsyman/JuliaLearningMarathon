{
 "cells": [
  {
   "cell_type": "markdown",
   "metadata": {
    "colab_type": "text",
    "id": "7BtseMUwzMw6"
   },
   "source": [
    "# 集合 (Collection) 型別：元組 (Tuple) 、Pair、字典 (Dict)、與 Set\n",
    "\n",
    "## Day 010 作業：計算字串中各宇元出現的次數\n",
    "\n",
    "今天的作業請大家計算字串中，各字元 (包含標點符號與換行符號) 出現的次數。範例解答將以字典 (Dict) 示範，將出現在字串中的字元作為 key，字元每出現一次就將對應的 value 次數加 1。最後，印出各字元及出現的次數。\n",
    "\n",
    "【提示】要判斷字典中某個 key 是否存在，可以呼叫 `hashkey(字典, key)`，若 key 存在的話就會回傳 `true`。使用範例請參閱官方文件 [https://docs.julialang.org/en/v1/base/collections/#Base.haskey](https://docs.julialang.org/en/v1/base/collections/#Base.haskey)"
   ]
  },
  {
   "cell_type": "code",
   "execution_count": 5,
   "metadata": {
    "colab": {},
    "colab_type": "code",
    "id": "2F_ZiR34zMw7",
    "outputId": "ecdf19de-e303-44a3-e632-58b8fe6801e7"
   },
   "outputs": [
    {
     "name": "stdout",
     "output_type": "stream",
     "text": [
      "Char永\n",
      "Char和\n",
      "Char有\n",
      "Char永\n",
      "Char和\n",
      "Char路\n",
      "Char，\n",
      "Char中\n",
      "Char和\n",
      "Char也\n",
      "Char有\n",
      "Char永\n",
      "Char和\n",
      "Char路\n",
      "Char，\n",
      "Char\n",
      "\n",
      "Char中\n",
      "Char和\n",
      "Char有\n",
      "Char中\n",
      "Char和\n",
      "Char路\n",
      "Char，\n",
      "Char永\n",
      "Char和\n",
      "Char也\n",
      "Char有\n",
      "Char中\n",
      "Char和\n",
      "Char路\n",
      "Char；\n",
      "Char\n",
      "\n",
      "Char中\n",
      "Char和\n",
      "Char的\n",
      "Char中\n",
      "Char和\n",
      "Char路\n",
      "Char有\n",
      "Char接\n",
      "Char永\n",
      "Char和\n",
      "Char的\n",
      "Char中\n",
      "Char和\n",
      "Char路\n",
      "Char，\n",
      "Char\n",
      "\n",
      "Char永\n",
      "Char和\n",
      "Char的\n",
      "Char永\n",
      "Char和\n",
      "Char路\n",
      "Char沒\n",
      "Char接\n",
      "Char中\n",
      "Char和\n",
      "Char的\n",
      "Char永\n",
      "Char和\n",
      "Char路\n",
      "Char；\n",
      "Char\n",
      "\n",
      "Char永\n",
      "Char和\n",
      "Char的\n",
      "Char中\n",
      "Char和\n",
      "Char路\n",
      "Char有\n",
      "Char接\n",
      "Char永\n",
      "Char和\n",
      "Char的\n",
      "Char永\n",
      "Char和\n",
      "Char路\n",
      "Char，\n",
      "Char\n",
      "\n",
      "Char中\n",
      "Char和\n",
      "Char的\n",
      "Char永\n",
      "Char和\n",
      "Char路\n",
      "Char沒\n",
      "Char接\n",
      "Char中\n",
      "Char和\n",
      "Char的\n",
      "Char中\n",
      "Char和\n",
      "Char路\n",
      "Char。\n"
     ]
    }
   ],
   "source": [
    "str = \"永和有永和路，中和也有永和路，\n",
    "中和有中和路，永和也有中和路；\n",
    "中和的中和路有接永和的中和路，\n",
    "永和的永和路沒接中和的永和路；\n",
    "永和的中和路有接永和的永和路，\n",
    "中和的永和路沒接中和的中和路。\"\n",
    "index = 0\n",
    "while index < lastindex(str)\n",
    "    index = nextind(str, index)\n",
    "    print(typeof(str[index]))\n",
    "    println(str[index])\n",
    "end"
   ]
  },
  {
   "cell_type": "code",
   "execution_count": 12,
   "metadata": {
    "colab": {},
    "colab_type": "code",
    "id": "ocOvdS0ezMxA"
   },
   "outputs": [
    {
     "data": {
      "text/plain": [
       "Dict{Any,Any} with 13 entries:\n",
       "  '和'  => 24\n",
       "  '有'  => 6\n",
       "  '路'  => 12\n",
       "  '。'  => 1\n",
       "  '中'  => 12\n",
       "  '也'  => 2\n",
       "  '\\n' => 5\n",
       "  '，'  => 5\n",
       "  '接'  => 4\n",
       "  '的'  => 8\n",
       "  '沒'  => 2\n",
       "  '；'  => 2\n",
       "  '永'  => 12"
      ]
     },
     "execution_count": 12,
     "metadata": {},
     "output_type": "execute_result"
    }
   ],
   "source": [
    "wordCountDict = Dict()\n",
    "for chineseChar in str\n",
    "    if !(chineseChar in keys(wordCountDict))\n",
    "        wordCountDict[chineseChar] = 1\n",
    "    else\n",
    "        wordCountDict[chineseChar] += 1\n",
    "    end\n",
    "end\n",
    "wordCountDict"
   ]
  }
 ],
 "metadata": {
  "@webio": {
   "lastCommId": null,
   "lastKernelId": null
  },
  "colab": {
   "name": "julia_010_hw.ipynb",
   "provenance": []
  },
  "kernelspec": {
   "display_name": "Julia 1.4.0",
   "language": "julia",
   "name": "julia-1.4"
  },
  "language_info": {
   "file_extension": ".jl",
   "mimetype": "application/julia",
   "name": "julia",
   "version": "1.4.0"
  }
 },
 "nbformat": 4,
 "nbformat_minor": 1
}
