{
 "cells": [
  {
   "cell_type": "markdown",
   "metadata": {},
   "source": [
    "# Julia 數值系統介紹\n",
    "\n",
    "## Day 004 作業\n",
    "\n",
    "今天的內容提到整數及浮點數型別之最小值和最大值：\n",
    "\n",
    "|是否有正負號|型別|<div style=\"width:120px\">最大值</div>|<div style=\"width:120px\">最小值</div>|\n",
    "|---|---|---|---|\n",
    "|有|Int128, Int64, Int32, Int16, Int8|$2^{位元數-1}-1$|$-2^{位元數-1}$|\n",
    "|無|UInt128, UInt64, UInt32, UInt16, UInt8|$2^{位元數}-1$|$0$|\n",
    "\n",
    "|型別|最小值|最大值|\n",
    "|---|---|---|\n",
    "|`Float64`|-Inf|Inf|\n",
    "|`Float32`|-Inf 或 -Inf32|Inf 或 Inf32|\n",
    "|`Float16`|-Inf 或 -Inf16|Inf 或 Inf16|\n",
    "\n",
    "### 作業：範例程式示範了 Int64 及 Float64 的最小值和最大值，作業請列出並觀察其他整數及浮點數型別的最小值和最大值。"
   ]
  },
  {
   "cell_type": "markdown",
   "metadata": {},
   "source": [
    "呼叫 `typemin()` 及 `typemax()` 函式得到各型別的最小值和最大值。\n",
    "\n",
    "列出 Int128, Int32, Int16, Int8, UInt128, UInt64, UInt32, UInt16, UInt8 整數型別的最小值及最大值"
   ]
  },
  {
   "cell_type": "code",
   "execution_count": 9,
   "metadata": {},
   "outputs": [
    {
     "data": {
      "text/plain": [
       "64"
      ]
     },
     "execution_count": 9,
     "metadata": {},
     "output_type": "execute_result"
    }
   ],
   "source": [
    "Sys.WORD_SIZE"
   ]
  },
  {
   "cell_type": "code",
   "execution_count": 7,
   "metadata": {},
   "outputs": [
    {
     "name": "stdout",
     "output_type": "stream",
     "text": [
      "-170141183460469231731687303715884105728\n",
      "-9223372036854775808\n",
      "-2147483648\n",
      "-32768\n",
      "-128\n",
      "0\n",
      "0\n",
      "0\n",
      "0\n",
      "0\n",
      "170141183460469231731687303715884105727\n",
      "9223372036854775807\n",
      "2147483647\n",
      "32767\n",
      "127\n",
      "340282366920938463463374607431768211455\n",
      "18446744073709551615\n",
      "4294967295\n",
      "65535\n",
      "255\n"
     ]
    }
   ],
   "source": [
    "println(typemin(Int128))\n",
    "println(typemin(Int64))\n",
    "println(typemin(Int32))\n",
    "println(typemin(Int16))\n",
    "println(typemin(Int8))\n",
    "println(typemin(UInt128))\n",
    "println(typemin(UInt64))\n",
    "println(typemin(UInt32))\n",
    "println(typemin(UInt16))\n",
    "println(typemin(UInt8))\n",
    "println(typemax(Int128))\n",
    "println(typemax(Int64))\n",
    "println(typemax(Int32))\n",
    "println(typemax(Int16))\n",
    "println(typemax(Int8))\n",
    "println(typemax(UInt128))\n",
    "println(typemax(UInt64))\n",
    "println(typemax(UInt32))\n",
    "println(typemax(UInt16))\n",
    "println(typemax(UInt8))"
   ]
  },
  {
   "cell_type": "markdown",
   "metadata": {},
   "source": [
    "列出 Float32, Float16 浮點數型別的最小和最大值"
   ]
  },
  {
   "cell_type": "code",
   "execution_count": 8,
   "metadata": {},
   "outputs": [
    {
     "name": "stdout",
     "output_type": "stream",
     "text": [
      "-Inf\n",
      "-Inf\n",
      "Inf\n",
      "Inf\n"
     ]
    }
   ],
   "source": [
    "println(typemin(Float32))\n",
    "println(typemin(Float16))\n",
    "println(typemax(Float32))\n",
    "println(typemax(Float16))"
   ]
  }
 ],
 "metadata": {
  "@webio": {
   "lastCommId": null,
   "lastKernelId": null
  },
  "kernelspec": {
   "display_name": "Julia 1.4.0",
   "language": "julia",
   "name": "julia-1.4"
  },
  "language_info": {
   "file_extension": ".jl",
   "mimetype": "application/julia",
   "name": "julia",
   "version": "1.4.0"
  }
 },
 "nbformat": 4,
 "nbformat_minor": 4
}
