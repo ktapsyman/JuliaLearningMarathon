{
 "cells": [
  {
   "cell_type": "markdown",
   "metadata": {
    "colab_type": "text",
    "id": "2X-9mXIwlD2v"
   },
   "source": [
    "# DataFrames.jl 介紹 (二): Joins 與 Split-Apply-Combine Strategy\n",
    "\n",
    "## Day 018 作業1：The Split-Apply-Combine Strategy\n",
    "\n",
    "同 Day 017，請載入 2020/4/2 COVID-19 Daily Report 資料集，計算每個國家/地區的累計確診人數，並列出所有資料筆數。"
   ]
  },
  {
   "cell_type": "code",
   "execution_count": 1,
   "metadata": {
    "colab": {},
    "colab_type": "code",
    "id": "jw9JRWRilD2w"
   },
   "outputs": [],
   "source": [
    "using DataFrames, CSV"
   ]
  },
  {
   "cell_type": "code",
   "execution_count": 2,
   "metadata": {
    "colab": {},
    "colab_type": "code",
    "id": "yYc3lmgzlD22",
    "outputId": "7b405ad5-8c9c-4214-b100-40a6f3febe51"
   },
   "outputs": [
    {
     "data": {
      "text/html": [
       "<table class=\"data-frame\"><thead><tr><th></th><th>FIPS</th><th>Admin2</th><th>Province_State</th><th>Country_Region</th><th>Last_Update</th><th>Lat</th></tr><tr><th></th><th>Int64⍰</th><th>String⍰</th><th>String⍰</th><th>String</th><th>String</th><th>Float64⍰</th></tr></thead><tbody><p>2,569 rows × 12 columns (omitted printing of 6 columns)</p><tr><th>1</th><td>45001</td><td>Abbeville</td><td>South Carolina</td><td>US</td><td>2020-04-02 23:25:27</td><td>34.2233</td></tr><tr><th>2</th><td>22001</td><td>Acadia</td><td>Louisiana</td><td>US</td><td>2020-04-02 23:25:27</td><td>30.2951</td></tr><tr><th>3</th><td>51001</td><td>Accomack</td><td>Virginia</td><td>US</td><td>2020-04-02 23:25:27</td><td>37.7671</td></tr><tr><th>4</th><td>16001</td><td>Ada</td><td>Idaho</td><td>US</td><td>2020-04-02 23:25:27</td><td>43.4527</td></tr><tr><th>5</th><td>19001</td><td>Adair</td><td>Iowa</td><td>US</td><td>2020-04-02 23:25:27</td><td>41.3308</td></tr><tr><th>6</th><td>29001</td><td>Adair</td><td>Missouri</td><td>US</td><td>2020-04-02 23:25:27</td><td>40.1906</td></tr><tr><th>7</th><td>40001</td><td>Adair</td><td>Oklahoma</td><td>US</td><td>2020-04-02 23:25:27</td><td>35.8849</td></tr><tr><th>8</th><td>8001</td><td>Adams</td><td>Colorado</td><td>US</td><td>2020-04-02 23:25:27</td><td>39.8743</td></tr><tr><th>9</th><td>16003</td><td>Adams</td><td>Idaho</td><td>US</td><td>2020-04-02 23:25:27</td><td>44.8933</td></tr><tr><th>10</th><td>17001</td><td>Adams</td><td>Illinois</td><td>US</td><td>2020-04-02 23:25:27</td><td>39.9882</td></tr><tr><th>11</th><td>18001</td><td>Adams</td><td>Indiana</td><td>US</td><td>2020-04-02 23:25:27</td><td>40.7458</td></tr><tr><th>12</th><td>28001</td><td>Adams</td><td>Mississippi</td><td>US</td><td>2020-04-02 23:25:27</td><td>31.4767</td></tr><tr><th>13</th><td>31001</td><td>Adams</td><td>Nebraska</td><td>US</td><td>2020-04-02 23:25:27</td><td>40.5245</td></tr><tr><th>14</th><td>42001</td><td>Adams</td><td>Pennsylvania</td><td>US</td><td>2020-04-02 23:25:27</td><td>39.8714</td></tr><tr><th>15</th><td>53001</td><td>Adams</td><td>Washington</td><td>US</td><td>2020-04-02 23:25:27</td><td>46.983</td></tr><tr><th>16</th><td>55001</td><td>Adams</td><td>Wisconsin</td><td>US</td><td>2020-04-02 23:25:27</td><td>43.9697</td></tr><tr><th>17</th><td>50001</td><td>Addison</td><td>Vermont</td><td>US</td><td>2020-04-02 23:25:27</td><td>44.0322</td></tr><tr><th>18</th><td>45003</td><td>Aiken</td><td>South Carolina</td><td>US</td><td>2020-04-02 23:25:27</td><td>33.5434</td></tr><tr><th>19</th><td>12001</td><td>Alachua</td><td>Florida</td><td>US</td><td>2020-04-02 23:25:27</td><td>29.6787</td></tr><tr><th>20</th><td>37001</td><td>Alamance</td><td>North Carolina</td><td>US</td><td>2020-04-02 23:25:27</td><td>36.0435</td></tr><tr><th>21</th><td>6001</td><td>Alameda</td><td>California</td><td>US</td><td>2020-04-02 23:25:27</td><td>37.6463</td></tr><tr><th>22</th><td>8003</td><td>Alamosa</td><td>Colorado</td><td>US</td><td>2020-04-02 23:25:27</td><td>37.5725</td></tr><tr><th>23</th><td>36001</td><td>Albany</td><td>New York</td><td>US</td><td>2020-04-02 23:25:27</td><td>42.6006</td></tr><tr><th>24</th><td>56001</td><td>Albany</td><td>Wyoming</td><td>US</td><td>2020-04-02 23:25:27</td><td>41.655</td></tr><tr><th>25</th><td>51003</td><td>Albemarle</td><td>Virginia</td><td>US</td><td>2020-04-02 23:25:27</td><td>38.0208</td></tr><tr><th>26</th><td>28003</td><td>Alcorn</td><td>Mississippi</td><td>US</td><td>2020-04-02 23:25:27</td><td>34.8808</td></tr><tr><th>27</th><td>37003</td><td>Alexander</td><td>North Carolina</td><td>US</td><td>2020-04-02 23:25:27</td><td>35.9224</td></tr><tr><th>28</th><td>51510</td><td>Alexandria</td><td>Virginia</td><td>US</td><td>2020-04-02 23:25:27</td><td>38.814</td></tr><tr><th>29</th><td>19005</td><td>Allamakee</td><td>Iowa</td><td>US</td><td>2020-04-02 23:25:27</td><td>43.2838</td></tr><tr><th>30</th><td>26005</td><td>Allegan</td><td>Michigan</td><td>US</td><td>2020-04-02 23:25:27</td><td>42.5915</td></tr><tr><th>&vellip;</th><td>&vellip;</td><td>&vellip;</td><td>&vellip;</td><td>&vellip;</td><td>&vellip;</td><td>&vellip;</td></tr></tbody></table>"
      ],
      "text/latex": [
       "\\begin{tabular}{r|ccccccc}\n",
       "\t& FIPS & Admin2 & Province\\_State & Country\\_Region & Last\\_Update & Lat & \\\\\n",
       "\t\\hline\n",
       "\t& Int64⍰ & String⍰ & String⍰ & String & String & Float64⍰ & \\\\\n",
       "\t\\hline\n",
       "\t1 & 45001 & Abbeville & South Carolina & US & 2020-04-02 23:25:27 & 34.2233 & $\\dots$ \\\\\n",
       "\t2 & 22001 & Acadia & Louisiana & US & 2020-04-02 23:25:27 & 30.2951 & $\\dots$ \\\\\n",
       "\t3 & 51001 & Accomack & Virginia & US & 2020-04-02 23:25:27 & 37.7671 & $\\dots$ \\\\\n",
       "\t4 & 16001 & Ada & Idaho & US & 2020-04-02 23:25:27 & 43.4527 & $\\dots$ \\\\\n",
       "\t5 & 19001 & Adair & Iowa & US & 2020-04-02 23:25:27 & 41.3308 & $\\dots$ \\\\\n",
       "\t6 & 29001 & Adair & Missouri & US & 2020-04-02 23:25:27 & 40.1906 & $\\dots$ \\\\\n",
       "\t7 & 40001 & Adair & Oklahoma & US & 2020-04-02 23:25:27 & 35.8849 & $\\dots$ \\\\\n",
       "\t8 & 8001 & Adams & Colorado & US & 2020-04-02 23:25:27 & 39.8743 & $\\dots$ \\\\\n",
       "\t9 & 16003 & Adams & Idaho & US & 2020-04-02 23:25:27 & 44.8933 & $\\dots$ \\\\\n",
       "\t10 & 17001 & Adams & Illinois & US & 2020-04-02 23:25:27 & 39.9882 & $\\dots$ \\\\\n",
       "\t11 & 18001 & Adams & Indiana & US & 2020-04-02 23:25:27 & 40.7458 & $\\dots$ \\\\\n",
       "\t12 & 28001 & Adams & Mississippi & US & 2020-04-02 23:25:27 & 31.4767 & $\\dots$ \\\\\n",
       "\t13 & 31001 & Adams & Nebraska & US & 2020-04-02 23:25:27 & 40.5245 & $\\dots$ \\\\\n",
       "\t14 & 42001 & Adams & Pennsylvania & US & 2020-04-02 23:25:27 & 39.8714 & $\\dots$ \\\\\n",
       "\t15 & 53001 & Adams & Washington & US & 2020-04-02 23:25:27 & 46.983 & $\\dots$ \\\\\n",
       "\t16 & 55001 & Adams & Wisconsin & US & 2020-04-02 23:25:27 & 43.9697 & $\\dots$ \\\\\n",
       "\t17 & 50001 & Addison & Vermont & US & 2020-04-02 23:25:27 & 44.0322 & $\\dots$ \\\\\n",
       "\t18 & 45003 & Aiken & South Carolina & US & 2020-04-02 23:25:27 & 33.5434 & $\\dots$ \\\\\n",
       "\t19 & 12001 & Alachua & Florida & US & 2020-04-02 23:25:27 & 29.6787 & $\\dots$ \\\\\n",
       "\t20 & 37001 & Alamance & North Carolina & US & 2020-04-02 23:25:27 & 36.0435 & $\\dots$ \\\\\n",
       "\t21 & 6001 & Alameda & California & US & 2020-04-02 23:25:27 & 37.6463 & $\\dots$ \\\\\n",
       "\t22 & 8003 & Alamosa & Colorado & US & 2020-04-02 23:25:27 & 37.5725 & $\\dots$ \\\\\n",
       "\t23 & 36001 & Albany & New York & US & 2020-04-02 23:25:27 & 42.6006 & $\\dots$ \\\\\n",
       "\t24 & 56001 & Albany & Wyoming & US & 2020-04-02 23:25:27 & 41.655 & $\\dots$ \\\\\n",
       "\t25 & 51003 & Albemarle & Virginia & US & 2020-04-02 23:25:27 & 38.0208 & $\\dots$ \\\\\n",
       "\t26 & 28003 & Alcorn & Mississippi & US & 2020-04-02 23:25:27 & 34.8808 & $\\dots$ \\\\\n",
       "\t27 & 37003 & Alexander & North Carolina & US & 2020-04-02 23:25:27 & 35.9224 & $\\dots$ \\\\\n",
       "\t28 & 51510 & Alexandria & Virginia & US & 2020-04-02 23:25:27 & 38.814 & $\\dots$ \\\\\n",
       "\t29 & 19005 & Allamakee & Iowa & US & 2020-04-02 23:25:27 & 43.2838 & $\\dots$ \\\\\n",
       "\t30 & 26005 & Allegan & Michigan & US & 2020-04-02 23:25:27 & 42.5915 & $\\dots$ \\\\\n",
       "\t$\\dots$ & $\\dots$ & $\\dots$ & $\\dots$ & $\\dots$ & $\\dots$ & $\\dots$ &  \\\\\n",
       "\\end{tabular}\n"
      ],
      "text/plain": [
       "2569×12 DataFrame. Omitted printing of 8 columns\n",
       "│ Row  │ FIPS    │ Admin2     │ Province_State │ Country_Region       │\n",
       "│      │ \u001b[90mInt64⍰\u001b[39m  │ \u001b[90mString⍰\u001b[39m    │ \u001b[90mString⍰\u001b[39m        │ \u001b[90mString\u001b[39m               │\n",
       "├──────┼─────────┼────────────┼────────────────┼──────────────────────┤\n",
       "│ 1    │ 45001   │ Abbeville  │ South Carolina │ US                   │\n",
       "│ 2    │ 22001   │ Acadia     │ Louisiana      │ US                   │\n",
       "│ 3    │ 51001   │ Accomack   │ Virginia       │ US                   │\n",
       "│ 4    │ 16001   │ Ada        │ Idaho          │ US                   │\n",
       "│ 5    │ 19001   │ Adair      │ Iowa           │ US                   │\n",
       "│ 6    │ 29001   │ Adair      │ Missouri       │ US                   │\n",
       "│ 7    │ 40001   │ Adair      │ Oklahoma       │ US                   │\n",
       "│ 8    │ 8001    │ Adams      │ Colorado       │ US                   │\n",
       "│ 9    │ 16003   │ Adams      │ Idaho          │ US                   │\n",
       "│ 10   │ 17001   │ Adams      │ Illinois       │ US                   │\n",
       "⋮\n",
       "│ 2559 │ \u001b[90mmissing\u001b[39m │ \u001b[90mmissing\u001b[39m    │ \u001b[90mmissing\u001b[39m        │ Ukraine              │\n",
       "│ 2560 │ \u001b[90mmissing\u001b[39m │ \u001b[90mmissing\u001b[39m    │ \u001b[90mmissing\u001b[39m        │ United Arab Emirates │\n",
       "│ 2561 │ \u001b[90mmissing\u001b[39m │ \u001b[90mmissing\u001b[39m    │ \u001b[90mmissing\u001b[39m        │ United Kingdom       │\n",
       "│ 2562 │ \u001b[90mmissing\u001b[39m │ \u001b[90mmissing\u001b[39m    │ \u001b[90mmissing\u001b[39m        │ Uruguay              │\n",
       "│ 2563 │ \u001b[90mmissing\u001b[39m │ \u001b[90mmissing\u001b[39m    │ \u001b[90mmissing\u001b[39m        │ Uzbekistan           │\n",
       "│ 2564 │ \u001b[90mmissing\u001b[39m │ \u001b[90mmissing\u001b[39m    │ \u001b[90mmissing\u001b[39m        │ Venezuela            │\n",
       "│ 2565 │ \u001b[90mmissing\u001b[39m │ \u001b[90mmissing\u001b[39m    │ \u001b[90mmissing\u001b[39m        │ Vietnam              │\n",
       "│ 2566 │ \u001b[90mmissing\u001b[39m │ \u001b[90mmissing\u001b[39m    │ \u001b[90mmissing\u001b[39m        │ West Bank and Gaza   │\n",
       "│ 2567 │ \u001b[90mmissing\u001b[39m │ \u001b[90mmissing\u001b[39m    │ \u001b[90mmissing\u001b[39m        │ Zambia               │\n",
       "│ 2568 │ \u001b[90mmissing\u001b[39m │ \u001b[90mmissing\u001b[39m    │ \u001b[90mmissing\u001b[39m        │ Zimbabwe             │\n",
       "│ 2569 │ \u001b[90mmissing\u001b[39m │ unassigned │ Wyoming        │ US                   │"
      ]
     },
     "execution_count": 2,
     "metadata": {},
     "output_type": "execute_result"
    }
   ],
   "source": [
    "df = CSV.read(\"04-02-2020.csv\")"
   ]
  },
  {
   "cell_type": "code",
   "execution_count": 4,
   "metadata": {},
   "outputs": [
    {
     "name": "stdout",
     "output_type": "stream",
     "text": [
      "2569×12 DataFrame\n",
      "│ Row  │ FIPS    │ Admin2     │ Province_State │ Country_Region       │\n",
      "│      │ \u001b[90mInt64⍰\u001b[39m  │ \u001b[90mString⍰\u001b[39m    │ \u001b[90mString⍰\u001b[39m        │ \u001b[90mString\u001b[39m               │\n",
      "├──────┼─────────┼────────────┼────────────────┼──────────────────────┤\n",
      "│ 1    │ 45001   │ Abbeville  │ South Carolina │ US                   │\n",
      "│ 2    │ 22001   │ Acadia     │ Louisiana      │ US                   │\n",
      "│ 3    │ 51001   │ Accomack   │ Virginia       │ US                   │\n",
      "│ 4    │ 16001   │ Ada        │ Idaho          │ US                   │\n",
      "│ 5    │ 19001   │ Adair      │ Iowa           │ US                   │\n",
      "│ 6    │ 29001   │ Adair      │ Missouri       │ US                   │\n",
      "│ 7    │ 40001   │ Adair      │ Oklahoma       │ US                   │\n",
      "│ 8    │ 8001    │ Adams      │ Colorado       │ US                   │\n",
      "│ 9    │ 16003   │ Adams      │ Idaho          │ US                   │\n",
      "│ 10   │ 17001   │ Adams      │ Illinois       │ US                   │\n",
      "⋮\n",
      "│ 2559 │ \u001b[90mmissing\u001b[39m │ \u001b[90mmissing\u001b[39m    │ \u001b[90mmissing\u001b[39m        │ Ukraine              │\n",
      "│ 2560 │ \u001b[90mmissing\u001b[39m │ \u001b[90mmissing\u001b[39m    │ \u001b[90mmissing\u001b[39m        │ United Arab Emirates │\n",
      "│ 2561 │ \u001b[90mmissing\u001b[39m │ \u001b[90mmissing\u001b[39m    │ \u001b[90mmissing\u001b[39m        │ United Kingdom       │\n",
      "│ 2562 │ \u001b[90mmissing\u001b[39m │ \u001b[90mmissing\u001b[39m    │ \u001b[90mmissing\u001b[39m        │ Uruguay              │\n",
      "│ 2563 │ \u001b[90mmissing\u001b[39m │ \u001b[90mmissing\u001b[39m    │ \u001b[90mmissing\u001b[39m        │ Uzbekistan           │\n",
      "│ 2564 │ \u001b[90mmissing\u001b[39m │ \u001b[90mmissing\u001b[39m    │ \u001b[90mmissing\u001b[39m        │ Venezuela            │\n",
      "│ 2565 │ \u001b[90mmissing\u001b[39m │ \u001b[90mmissing\u001b[39m    │ \u001b[90mmissing\u001b[39m        │ Vietnam              │\n",
      "│ 2566 │ \u001b[90mmissing\u001b[39m │ \u001b[90mmissing\u001b[39m    │ \u001b[90mmissing\u001b[39m        │ West Bank and Gaza   │\n",
      "│ 2567 │ \u001b[90mmissing\u001b[39m │ \u001b[90mmissing\u001b[39m    │ \u001b[90mmissing\u001b[39m        │ Zambia               │\n",
      "│ 2568 │ \u001b[90mmissing\u001b[39m │ \u001b[90mmissing\u001b[39m    │ \u001b[90mmissing\u001b[39m        │ Zimbabwe             │\n",
      "│ 2569 │ \u001b[90mmissing\u001b[39m │ unassigned │ Wyoming        │ US                   │\n",
      "\n",
      "│ Row  │ Last_Update         │ Lat      │ Long_    │ Confirmed │ Deaths │\n",
      "│      │ \u001b[90mString\u001b[39m              │ \u001b[90mFloat64⍰\u001b[39m │ \u001b[90mFloat64⍰\u001b[39m │ \u001b[90mInt64\u001b[39m     │ \u001b[90mInt64\u001b[39m  │\n",
      "├──────┼─────────────────────┼──────────┼──────────┼───────────┼────────┤\n",
      "│ 1    │ 2020-04-02 23:25:27 │ 34.2233  │ -82.4617 │ 6         │ 0      │\n",
      "│ 2    │ 2020-04-02 23:25:27 │ 30.2951  │ -92.4142 │ 61        │ 1      │\n",
      "│ 3    │ 2020-04-02 23:25:27 │ 37.7671  │ -75.6323 │ 10        │ 0      │\n",
      "│ 4    │ 2020-04-02 23:25:27 │ 43.4527  │ -116.242 │ 312       │ 3      │\n",
      "│ 5    │ 2020-04-02 23:25:27 │ 41.3308  │ -94.4711 │ 1         │ 0      │\n",
      "│ 6    │ 2020-04-02 23:25:27 │ 40.1906  │ -92.6008 │ 6         │ 0      │\n",
      "│ 7    │ 2020-04-02 23:25:27 │ 35.8849  │ -94.6586 │ 9         │ 0      │\n",
      "│ 8    │ 2020-04-02 23:25:27 │ 39.8743  │ -104.336 │ 212       │ 2      │\n",
      "│ 9    │ 2020-04-02 23:25:27 │ 44.8933  │ -116.455 │ 1         │ 0      │\n",
      "│ 10   │ 2020-04-02 23:25:27 │ 39.9882  │ -91.1879 │ 2         │ 0      │\n",
      "⋮\n",
      "│ 2559 │ 2020-04-02 23:25:14 │ 48.3794  │ 31.1656  │ 897       │ 22     │\n",
      "│ 2560 │ 2020-04-02 23:25:14 │ 23.4241  │ 53.8478  │ 1024      │ 8      │\n",
      "│ 2561 │ 2020-04-02 23:25:14 │ 55.3781  │ -3.436   │ 33718     │ 2921   │\n",
      "│ 2562 │ 2020-04-02 23:25:14 │ -32.5228 │ -55.7658 │ 350       │ 4      │\n",
      "│ 2563 │ 2020-04-02 23:25:14 │ 41.3775  │ 64.5853  │ 205       │ 2      │\n",
      "│ 2564 │ 2020-04-02 23:25:14 │ 6.4238   │ -66.5897 │ 146       │ 5      │\n",
      "│ 2565 │ 2020-04-02 23:25:14 │ 14.0583  │ 108.277  │ 233       │ 0      │\n",
      "│ 2566 │ 2020-04-02 23:25:14 │ 31.9522  │ 35.2332  │ 161       │ 1      │\n",
      "│ 2567 │ 2020-04-02 23:25:14 │ -13.1339 │ 27.8493  │ 39        │ 1      │\n",
      "│ 2568 │ 2020-04-02 23:25:14 │ -19.0154 │ 29.1549  │ 9         │ 1      │\n",
      "│ 2569 │ 2020-04-02 23:25:27 │ \u001b[90mmissing\u001b[39m  │ \u001b[90mmissing\u001b[39m  │ 0         │ 0      │\n",
      "\n",
      "│ Row  │ Recovered │ Active │ Combined_Key                  │\n",
      "│      │ \u001b[90mInt64\u001b[39m     │ \u001b[90mInt64\u001b[39m  │ \u001b[90mString\u001b[39m                        │\n",
      "├──────┼───────────┼────────┼───────────────────────────────┤\n",
      "│ 1    │ 0         │ 0      │ Abbeville, South Carolina, US │\n",
      "│ 2    │ 0         │ 0      │ Acadia, Louisiana, US         │\n",
      "│ 3    │ 0         │ 0      │ Accomack, Virginia, US        │\n",
      "│ 4    │ 0         │ 0      │ Ada, Idaho, US                │\n",
      "│ 5    │ 0         │ 0      │ Adair, Iowa, US               │\n",
      "│ 6    │ 0         │ 0      │ Adair, Missouri, US           │\n",
      "│ 7    │ 0         │ 0      │ Adair, Oklahoma, US           │\n",
      "│ 8    │ 0         │ 0      │ Adams, Colorado, US           │\n",
      "│ 9    │ 0         │ 0      │ Adams,Idaho,US                │\n",
      "│ 10   │ 0         │ 0      │ Adams, Illinois, US           │\n",
      "⋮\n",
      "│ 2559 │ 19        │ 856    │ Ukraine                       │\n",
      "│ 2560 │ 96        │ 920    │ United Arab Emirates          │\n",
      "│ 2561 │ 135       │ 30662  │ United Kingdom                │\n",
      "│ 2562 │ 62        │ 284    │ Uruguay                       │\n",
      "│ 2563 │ 25        │ 178    │ Uzbekistan                    │\n",
      "│ 2564 │ 43        │ 98     │ Venezuela                     │\n",
      "│ 2565 │ 75        │ 158    │ Vietnam                       │\n",
      "│ 2566 │ 18        │ 142    │ West Bank and Gaza            │\n",
      "│ 2567 │ 0         │ 38     │ Zambia                        │\n",
      "│ 2568 │ 0         │ 8      │ Zimbabwe                      │\n",
      "│ 2569 │ 0         │ 0      │ unassigned, Wyoming, US       │"
     ]
    }
   ],
   "source": [
    "show(df, allcols=true)"
   ]
  },
  {
   "cell_type": "markdown",
   "metadata": {
    "colab_type": "text",
    "id": "Pw8WALcSlD28"
   },
   "source": [
    "計算計算每個國家/地區的累計確診人數\n",
    "\n",
    "【提示】可使用 groupby 相關的函式"
   ]
  },
  {
   "cell_type": "code",
   "execution_count": 8,
   "metadata": {
    "colab": {},
    "colab_type": "code",
    "id": "habhL6illD3B"
   },
   "outputs": [
    {
     "data": {
      "text/html": [
       "<table class=\"data-frame\"><thead><tr><th></th><th>Country_Region</th><th>Confirmed_sum</th></tr><tr><th></th><th>String</th><th>Int64</th></tr></thead><tbody><p>181 rows × 2 columns</p><tr><th>1</th><td>US</td><td>243453</td></tr><tr><th>2</th><td>Canada</td><td>11284</td></tr><tr><th>3</th><td>United Kingdom</td><td>34173</td></tr><tr><th>4</th><td>China</td><td>82432</td></tr><tr><th>5</th><td>Netherlands</td><td>14788</td></tr><tr><th>6</th><td>Australia</td><td>5116</td></tr><tr><th>7</th><td>Denmark</td><td>3573</td></tr><tr><th>8</th><td>France</td><td>59929</td></tr><tr><th>9</th><td>Afghanistan</td><td>273</td></tr><tr><th>10</th><td>Albania</td><td>277</td></tr><tr><th>11</th><td>Algeria</td><td>986</td></tr><tr><th>12</th><td>Andorra</td><td>428</td></tr><tr><th>13</th><td>Angola</td><td>8</td></tr><tr><th>14</th><td>Antigua and Barbuda</td><td>9</td></tr><tr><th>15</th><td>Argentina</td><td>1133</td></tr><tr><th>16</th><td>Armenia</td><td>663</td></tr><tr><th>17</th><td>Austria</td><td>11129</td></tr><tr><th>18</th><td>Azerbaijan</td><td>400</td></tr><tr><th>19</th><td>Bahamas</td><td>24</td></tr><tr><th>20</th><td>Bahrain</td><td>643</td></tr><tr><th>21</th><td>Bangladesh</td><td>56</td></tr><tr><th>22</th><td>Barbados</td><td>46</td></tr><tr><th>23</th><td>Belarus</td><td>304</td></tr><tr><th>24</th><td>Belgium</td><td>15348</td></tr><tr><th>25</th><td>Belize</td><td>3</td></tr><tr><th>26</th><td>Benin</td><td>13</td></tr><tr><th>27</th><td>Bhutan</td><td>5</td></tr><tr><th>28</th><td>Bolivia</td><td>123</td></tr><tr><th>29</th><td>Bosnia and Herzegovina</td><td>533</td></tr><tr><th>30</th><td>Botswana</td><td>4</td></tr><tr><th>&vellip;</th><td>&vellip;</td><td>&vellip;</td></tr></tbody></table>"
      ],
      "text/latex": [
       "\\begin{tabular}{r|cc}\n",
       "\t& Country\\_Region & Confirmed\\_sum\\\\\n",
       "\t\\hline\n",
       "\t& String & Int64\\\\\n",
       "\t\\hline\n",
       "\t1 & US & 243453 \\\\\n",
       "\t2 & Canada & 11284 \\\\\n",
       "\t3 & United Kingdom & 34173 \\\\\n",
       "\t4 & China & 82432 \\\\\n",
       "\t5 & Netherlands & 14788 \\\\\n",
       "\t6 & Australia & 5116 \\\\\n",
       "\t7 & Denmark & 3573 \\\\\n",
       "\t8 & France & 59929 \\\\\n",
       "\t9 & Afghanistan & 273 \\\\\n",
       "\t10 & Albania & 277 \\\\\n",
       "\t11 & Algeria & 986 \\\\\n",
       "\t12 & Andorra & 428 \\\\\n",
       "\t13 & Angola & 8 \\\\\n",
       "\t14 & Antigua and Barbuda & 9 \\\\\n",
       "\t15 & Argentina & 1133 \\\\\n",
       "\t16 & Armenia & 663 \\\\\n",
       "\t17 & Austria & 11129 \\\\\n",
       "\t18 & Azerbaijan & 400 \\\\\n",
       "\t19 & Bahamas & 24 \\\\\n",
       "\t20 & Bahrain & 643 \\\\\n",
       "\t21 & Bangladesh & 56 \\\\\n",
       "\t22 & Barbados & 46 \\\\\n",
       "\t23 & Belarus & 304 \\\\\n",
       "\t24 & Belgium & 15348 \\\\\n",
       "\t25 & Belize & 3 \\\\\n",
       "\t26 & Benin & 13 \\\\\n",
       "\t27 & Bhutan & 5 \\\\\n",
       "\t28 & Bolivia & 123 \\\\\n",
       "\t29 & Bosnia and Herzegovina & 533 \\\\\n",
       "\t30 & Botswana & 4 \\\\\n",
       "\t$\\dots$ & $\\dots$ & $\\dots$ \\\\\n",
       "\\end{tabular}\n"
      ],
      "text/plain": [
       "181×2 DataFrame\n",
       "│ Row │ Country_Region       │ Confirmed_sum │\n",
       "│     │ \u001b[90mString\u001b[39m               │ \u001b[90mInt64\u001b[39m         │\n",
       "├─────┼──────────────────────┼───────────────┤\n",
       "│ 1   │ US                   │ 243453        │\n",
       "│ 2   │ Canada               │ 11284         │\n",
       "│ 3   │ United Kingdom       │ 34173         │\n",
       "│ 4   │ China                │ 82432         │\n",
       "│ 5   │ Netherlands          │ 14788         │\n",
       "│ 6   │ Australia            │ 5116          │\n",
       "│ 7   │ Denmark              │ 3573          │\n",
       "│ 8   │ France               │ 59929         │\n",
       "│ 9   │ Afghanistan          │ 273           │\n",
       "│ 10  │ Albania              │ 277           │\n",
       "⋮\n",
       "│ 171 │ Turkey               │ 18135         │\n",
       "│ 172 │ Uganda               │ 45            │\n",
       "│ 173 │ Ukraine              │ 897           │\n",
       "│ 174 │ United Arab Emirates │ 1024          │\n",
       "│ 175 │ Uruguay              │ 350           │\n",
       "│ 176 │ Uzbekistan           │ 205           │\n",
       "│ 177 │ Venezuela            │ 146           │\n",
       "│ 178 │ Vietnam              │ 233           │\n",
       "│ 179 │ West Bank and Gaza   │ 161           │\n",
       "│ 180 │ Zambia               │ 39            │\n",
       "│ 181 │ Zimbabwe             │ 9             │"
      ]
     },
     "execution_count": 8,
     "metadata": {},
     "output_type": "execute_result"
    }
   ],
   "source": [
    "# 顯示所有資料\n",
    "by(df, :Country_Region, :Confirmed => sum)"
   ]
  },
  {
   "cell_type": "markdown",
   "metadata": {
    "colab_type": "text",
    "id": "2ye5nBbjlD3G"
   },
   "source": [
    "## 作業2：請列出美國各區域或事件 (依 Province_State 欄) 的累積確診、死亡、康復人數。\n",
    "\n",
    "【提示】使用 Split-Apply-Combine Strategy 時，有幾種不同的函式可以使用，請參照 `DataFrames.jl` 官方文件 [https://juliadata.github.io/DataFrames.jl/stable/lib/functions/#DataFrames.groupby](https://juliadata.github.io/DataFrames.jl/stable/lib/functions/#DataFrames.groupby)"
   ]
  },
  {
   "cell_type": "code",
   "execution_count": 14,
   "metadata": {
    "colab": {},
    "colab_type": "code",
    "id": "wDmhNGHWlD3H"
   },
   "outputs": [
    {
     "data": {
      "text/html": [
       "<table class=\"data-frame\"><thead><tr><th></th><th>Province_State</th><th>Country_Region</th><th>Confirmed</th><th>Deaths</th><th>Recovered</th></tr><tr><th></th><th>String⍰</th><th>String</th><th>Int64</th><th>Int64</th><th>Int64</th></tr></thead><tbody><p>2,312 rows × 5 columns</p><tr><th>1</th><td>South Carolina</td><td>US</td><td>6</td><td>0</td><td>0</td></tr><tr><th>2</th><td>Louisiana</td><td>US</td><td>61</td><td>1</td><td>0</td></tr><tr><th>3</th><td>Virginia</td><td>US</td><td>10</td><td>0</td><td>0</td></tr><tr><th>4</th><td>Idaho</td><td>US</td><td>312</td><td>3</td><td>0</td></tr><tr><th>5</th><td>Iowa</td><td>US</td><td>1</td><td>0</td><td>0</td></tr><tr><th>6</th><td>Missouri</td><td>US</td><td>6</td><td>0</td><td>0</td></tr><tr><th>7</th><td>Oklahoma</td><td>US</td><td>9</td><td>0</td><td>0</td></tr><tr><th>8</th><td>Colorado</td><td>US</td><td>212</td><td>2</td><td>0</td></tr><tr><th>9</th><td>Idaho</td><td>US</td><td>1</td><td>0</td><td>0</td></tr><tr><th>10</th><td>Illinois</td><td>US</td><td>2</td><td>0</td><td>0</td></tr><tr><th>11</th><td>Indiana</td><td>US</td><td>1</td><td>0</td><td>0</td></tr><tr><th>12</th><td>Mississippi</td><td>US</td><td>14</td><td>0</td><td>0</td></tr><tr><th>13</th><td>Nebraska</td><td>US</td><td>6</td><td>0</td><td>0</td></tr><tr><th>14</th><td>Pennsylvania</td><td>US</td><td>18</td><td>0</td><td>0</td></tr><tr><th>15</th><td>Washington</td><td>US</td><td>20</td><td>0</td><td>0</td></tr><tr><th>16</th><td>Wisconsin</td><td>US</td><td>1</td><td>0</td><td>0</td></tr><tr><th>17</th><td>Vermont</td><td>US</td><td>26</td><td>0</td><td>0</td></tr><tr><th>18</th><td>South Carolina</td><td>US</td><td>22</td><td>1</td><td>0</td></tr><tr><th>19</th><td>Florida</td><td>US</td><td>95</td><td>0</td><td>0</td></tr><tr><th>20</th><td>North Carolina</td><td>US</td><td>13</td><td>0</td><td>0</td></tr><tr><th>21</th><td>California</td><td>US</td><td>359</td><td>8</td><td>0</td></tr><tr><th>22</th><td>Colorado</td><td>US</td><td>4</td><td>0</td><td>0</td></tr><tr><th>23</th><td>New York</td><td>US</td><td>253</td><td>2</td><td>0</td></tr><tr><th>24</th><td>Wyoming</td><td>US</td><td>3</td><td>0</td><td>0</td></tr><tr><th>25</th><td>Virginia</td><td>US</td><td>23</td><td>0</td><td>0</td></tr><tr><th>26</th><td>Mississippi</td><td>US</td><td>3</td><td>0</td><td>0</td></tr><tr><th>27</th><td>North Carolina</td><td>US</td><td>2</td><td>0</td><td>0</td></tr><tr><th>28</th><td>Virginia</td><td>US</td><td>33</td><td>0</td><td>0</td></tr><tr><th>29</th><td>Iowa</td><td>US</td><td>15</td><td>1</td><td>0</td></tr><tr><th>30</th><td>Michigan</td><td>US</td><td>5</td><td>0</td><td>0</td></tr><tr><th>&vellip;</th><td>&vellip;</td><td>&vellip;</td><td>&vellip;</td><td>&vellip;</td><td>&vellip;</td></tr></tbody></table>"
      ],
      "text/latex": [
       "\\begin{tabular}{r|ccccc}\n",
       "\t& Province\\_State & Country\\_Region & Confirmed & Deaths & Recovered\\\\\n",
       "\t\\hline\n",
       "\t& String⍰ & String & Int64 & Int64 & Int64\\\\\n",
       "\t\\hline\n",
       "\t1 & South Carolina & US & 6 & 0 & 0 \\\\\n",
       "\t2 & Louisiana & US & 61 & 1 & 0 \\\\\n",
       "\t3 & Virginia & US & 10 & 0 & 0 \\\\\n",
       "\t4 & Idaho & US & 312 & 3 & 0 \\\\\n",
       "\t5 & Iowa & US & 1 & 0 & 0 \\\\\n",
       "\t6 & Missouri & US & 6 & 0 & 0 \\\\\n",
       "\t7 & Oklahoma & US & 9 & 0 & 0 \\\\\n",
       "\t8 & Colorado & US & 212 & 2 & 0 \\\\\n",
       "\t9 & Idaho & US & 1 & 0 & 0 \\\\\n",
       "\t10 & Illinois & US & 2 & 0 & 0 \\\\\n",
       "\t11 & Indiana & US & 1 & 0 & 0 \\\\\n",
       "\t12 & Mississippi & US & 14 & 0 & 0 \\\\\n",
       "\t13 & Nebraska & US & 6 & 0 & 0 \\\\\n",
       "\t14 & Pennsylvania & US & 18 & 0 & 0 \\\\\n",
       "\t15 & Washington & US & 20 & 0 & 0 \\\\\n",
       "\t16 & Wisconsin & US & 1 & 0 & 0 \\\\\n",
       "\t17 & Vermont & US & 26 & 0 & 0 \\\\\n",
       "\t18 & South Carolina & US & 22 & 1 & 0 \\\\\n",
       "\t19 & Florida & US & 95 & 0 & 0 \\\\\n",
       "\t20 & North Carolina & US & 13 & 0 & 0 \\\\\n",
       "\t21 & California & US & 359 & 8 & 0 \\\\\n",
       "\t22 & Colorado & US & 4 & 0 & 0 \\\\\n",
       "\t23 & New York & US & 253 & 2 & 0 \\\\\n",
       "\t24 & Wyoming & US & 3 & 0 & 0 \\\\\n",
       "\t25 & Virginia & US & 23 & 0 & 0 \\\\\n",
       "\t26 & Mississippi & US & 3 & 0 & 0 \\\\\n",
       "\t27 & North Carolina & US & 2 & 0 & 0 \\\\\n",
       "\t28 & Virginia & US & 33 & 0 & 0 \\\\\n",
       "\t29 & Iowa & US & 15 & 1 & 0 \\\\\n",
       "\t30 & Michigan & US & 5 & 0 & 0 \\\\\n",
       "\t$\\dots$ & $\\dots$ & $\\dots$ & $\\dots$ & $\\dots$ & $\\dots$ \\\\\n",
       "\\end{tabular}\n"
      ],
      "text/plain": [
       "2312×5 DataFrame. Omitted printing of 1 columns\n",
       "│ Row  │ Province_State           │ Country_Region │ Confirmed │ Deaths │\n",
       "│      │ \u001b[90mUnion{Missing, String}\u001b[39m   │ \u001b[90mString\u001b[39m         │ \u001b[90mInt64\u001b[39m     │ \u001b[90mInt64\u001b[39m  │\n",
       "├──────┼──────────────────────────┼────────────────┼───────────┼────────┤\n",
       "│ 1    │ South Carolina           │ US             │ 6         │ 0      │\n",
       "│ 2    │ Louisiana                │ US             │ 61        │ 1      │\n",
       "│ 3    │ Virginia                 │ US             │ 10        │ 0      │\n",
       "│ 4    │ Idaho                    │ US             │ 312       │ 3      │\n",
       "│ 5    │ Iowa                     │ US             │ 1         │ 0      │\n",
       "│ 6    │ Missouri                 │ US             │ 6         │ 0      │\n",
       "│ 7    │ Oklahoma                 │ US             │ 9         │ 0      │\n",
       "│ 8    │ Colorado                 │ US             │ 212       │ 2      │\n",
       "│ 9    │ Idaho                    │ US             │ 1         │ 0      │\n",
       "│ 10   │ Illinois                 │ US             │ 2         │ 0      │\n",
       "⋮\n",
       "│ 2302 │ California               │ US             │ 8         │ 0      │\n",
       "│ 2303 │ Arizona                  │ US             │ 13        │ 0      │\n",
       "│ 2304 │ Colorado                 │ US             │ 2         │ 0      │\n",
       "│ 2305 │ Diamond Princess         │ US             │ 49        │ 0      │\n",
       "│ 2306 │ Grand Princess           │ US             │ 103       │ 3      │\n",
       "│ 2307 │ Guam                     │ US             │ 82        │ 3      │\n",
       "│ 2308 │ Northern Mariana Islands │ US             │ 6         │ 1      │\n",
       "│ 2309 │ Puerto Rico              │ US             │ 316       │ 12     │\n",
       "│ 2310 │ Recovered                │ US             │ 0         │ 0      │\n",
       "│ 2311 │ Virgin Islands           │ US             │ 30        │ 0      │\n",
       "│ 2312 │ Wyoming                  │ US             │ 0         │ 0      │"
      ]
     },
     "execution_count": 14,
     "metadata": {},
     "output_type": "execute_result"
    }
   ],
   "source": [
    "dfUS = filter(row -> row[:Country_Region] == \"US\", select(df, [:Province_State, :Country_Region, :Confirmed, :Deaths, :Recovered]))"
   ]
  },
  {
   "cell_type": "code",
   "execution_count": 16,
   "metadata": {},
   "outputs": [
    {
     "data": {
      "text/html": [
       "<table class=\"data-frame\"><thead><tr><th></th><th>Province_State</th><th>Confirmed_sum</th><th>Deaths_sum</th><th>Recovered_sum</th></tr><tr><th></th><th>String⍰</th><th>Int64</th><th>Int64</th><th>Int64</th></tr></thead><tbody><p>58 rows × 4 columns</p><tr><th>1</th><td>South Carolina</td><td>1554</td><td>31</td><td>0</td></tr><tr><th>2</th><td>Louisiana</td><td>9159</td><td>310</td><td>0</td></tr><tr><th>3</th><td>Virginia</td><td>1706</td><td>41</td><td>0</td></tr><tr><th>4</th><td>Idaho</td><td>776</td><td>9</td><td>0</td></tr><tr><th>5</th><td>Iowa</td><td>614</td><td>11</td><td>0</td></tr><tr><th>6</th><td>Missouri</td><td>1857</td><td>22</td><td>0</td></tr><tr><th>7</th><td>Oklahoma</td><td>881</td><td>34</td><td>0</td></tr><tr><th>8</th><td>Colorado</td><td>3342</td><td>80</td><td>0</td></tr><tr><th>9</th><td>Illinois</td><td>7695</td><td>163</td><td>0</td></tr><tr><th>10</th><td>Indiana</td><td>3038</td><td>78</td><td>0</td></tr><tr><th>11</th><td>Mississippi</td><td>1177</td><td>26</td><td>0</td></tr><tr><th>12</th><td>Nebraska</td><td>246</td><td>5</td><td>0</td></tr><tr><th>13</th><td>Pennsylvania</td><td>7268</td><td>90</td><td>0</td></tr><tr><th>14</th><td>Washington</td><td>6389</td><td>271</td><td>0</td></tr><tr><th>15</th><td>Wisconsin</td><td>1748</td><td>38</td><td>0</td></tr><tr><th>16</th><td>Vermont</td><td>338</td><td>17</td><td>0</td></tr><tr><th>17</th><td>Florida</td><td>9008</td><td>164</td><td>0</td></tr><tr><th>18</th><td>North Carolina</td><td>1977</td><td>21</td><td>0</td></tr><tr><th>19</th><td>California</td><td>10773</td><td>238</td><td>0</td></tr><tr><th>20</th><td>New York</td><td>92506</td><td>2373</td><td>0</td></tr><tr><th>21</th><td>Wyoming</td><td>150</td><td>0</td><td>0</td></tr><tr><th>22</th><td>Michigan</td><td>10791</td><td>417</td><td>0</td></tr><tr><th>23</th><td>Maryland</td><td>2331</td><td>36</td><td>0</td></tr><tr><th>24</th><td>Kentucky</td><td>770</td><td>31</td><td>0</td></tr><tr><th>25</th><td>Ohio</td><td>2901</td><td>81</td><td>0</td></tr><tr><th>26</th><td>Alaska</td><td>143</td><td>3</td><td>0</td></tr><tr><th>27</th><td>Kansas</td><td>553</td><td>12</td><td>0</td></tr><tr><th>28</th><td>Tennessee</td><td>2845</td><td>36</td><td>0</td></tr><tr><th>29</th><td>Texas</td><td>5069</td><td>77</td><td>0</td></tr><tr><th>30</th><td>Maine</td><td>376</td><td>7</td><td>0</td></tr><tr><th>&vellip;</th><td>&vellip;</td><td>&vellip;</td><td>&vellip;</td><td>&vellip;</td></tr></tbody></table>"
      ],
      "text/latex": [
       "\\begin{tabular}{r|cccc}\n",
       "\t& Province\\_State & Confirmed\\_sum & Deaths\\_sum & Recovered\\_sum\\\\\n",
       "\t\\hline\n",
       "\t& String⍰ & Int64 & Int64 & Int64\\\\\n",
       "\t\\hline\n",
       "\t1 & South Carolina & 1554 & 31 & 0 \\\\\n",
       "\t2 & Louisiana & 9159 & 310 & 0 \\\\\n",
       "\t3 & Virginia & 1706 & 41 & 0 \\\\\n",
       "\t4 & Idaho & 776 & 9 & 0 \\\\\n",
       "\t5 & Iowa & 614 & 11 & 0 \\\\\n",
       "\t6 & Missouri & 1857 & 22 & 0 \\\\\n",
       "\t7 & Oklahoma & 881 & 34 & 0 \\\\\n",
       "\t8 & Colorado & 3342 & 80 & 0 \\\\\n",
       "\t9 & Illinois & 7695 & 163 & 0 \\\\\n",
       "\t10 & Indiana & 3038 & 78 & 0 \\\\\n",
       "\t11 & Mississippi & 1177 & 26 & 0 \\\\\n",
       "\t12 & Nebraska & 246 & 5 & 0 \\\\\n",
       "\t13 & Pennsylvania & 7268 & 90 & 0 \\\\\n",
       "\t14 & Washington & 6389 & 271 & 0 \\\\\n",
       "\t15 & Wisconsin & 1748 & 38 & 0 \\\\\n",
       "\t16 & Vermont & 338 & 17 & 0 \\\\\n",
       "\t17 & Florida & 9008 & 164 & 0 \\\\\n",
       "\t18 & North Carolina & 1977 & 21 & 0 \\\\\n",
       "\t19 & California & 10773 & 238 & 0 \\\\\n",
       "\t20 & New York & 92506 & 2373 & 0 \\\\\n",
       "\t21 & Wyoming & 150 & 0 & 0 \\\\\n",
       "\t22 & Michigan & 10791 & 417 & 0 \\\\\n",
       "\t23 & Maryland & 2331 & 36 & 0 \\\\\n",
       "\t24 & Kentucky & 770 & 31 & 0 \\\\\n",
       "\t25 & Ohio & 2901 & 81 & 0 \\\\\n",
       "\t26 & Alaska & 143 & 3 & 0 \\\\\n",
       "\t27 & Kansas & 553 & 12 & 0 \\\\\n",
       "\t28 & Tennessee & 2845 & 36 & 0 \\\\\n",
       "\t29 & Texas & 5069 & 77 & 0 \\\\\n",
       "\t30 & Maine & 376 & 7 & 0 \\\\\n",
       "\t$\\dots$ & $\\dots$ & $\\dots$ & $\\dots$ & $\\dots$ \\\\\n",
       "\\end{tabular}\n"
      ],
      "text/plain": [
       "58×4 DataFrame\n",
       "│ Row │ Province_State           │ Confirmed_sum │ Deaths_sum │ Recovered_sum │\n",
       "│     │ \u001b[90mUnion{Missing, String}\u001b[39m   │ \u001b[90mInt64\u001b[39m         │ \u001b[90mInt64\u001b[39m      │ \u001b[90mInt64\u001b[39m         │\n",
       "├─────┼──────────────────────────┼───────────────┼────────────┼───────────────┤\n",
       "│ 1   │ South Carolina           │ 1554          │ 31         │ 0             │\n",
       "│ 2   │ Louisiana                │ 9159          │ 310        │ 0             │\n",
       "│ 3   │ Virginia                 │ 1706          │ 41         │ 0             │\n",
       "│ 4   │ Idaho                    │ 776           │ 9          │ 0             │\n",
       "│ 5   │ Iowa                     │ 614           │ 11         │ 0             │\n",
       "│ 6   │ Missouri                 │ 1857          │ 22         │ 0             │\n",
       "│ 7   │ Oklahoma                 │ 881           │ 34         │ 0             │\n",
       "│ 8   │ Colorado                 │ 3342          │ 80         │ 0             │\n",
       "│ 9   │ Illinois                 │ 7695          │ 163        │ 0             │\n",
       "│ 10  │ Indiana                  │ 3038          │ 78         │ 0             │\n",
       "⋮\n",
       "│ 48  │ District of Columbia     │ 653           │ 12         │ 0             │\n",
       "│ 49  │ Connecticut              │ 3824          │ 112        │ 0             │\n",
       "│ 50  │ Hawaii                   │ 256           │ 1          │ 0             │\n",
       "│ 51  │ Delaware                 │ 393           │ 12         │ 0             │\n",
       "│ 52  │ Diamond Princess         │ 49            │ 0          │ 0             │\n",
       "│ 53  │ Grand Princess           │ 103           │ 3          │ 0             │\n",
       "│ 54  │ Guam                     │ 82            │ 3          │ 0             │\n",
       "│ 55  │ Northern Mariana Islands │ 6             │ 1          │ 0             │\n",
       "│ 56  │ Puerto Rico              │ 316           │ 12         │ 0             │\n",
       "│ 57  │ Recovered                │ 0             │ 0          │ 9001          │\n",
       "│ 58  │ Virgin Islands           │ 30            │ 0          │ 0             │"
      ]
     },
     "execution_count": 16,
     "metadata": {},
     "output_type": "execute_result"
    }
   ],
   "source": [
    "by(dfUS, :Province_State, :Confirmed=>sum, :Deaths=>sum, :Recovered=>sum)"
   ]
  }
 ],
 "metadata": {
  "colab": {
   "name": "julia_018_hw.ipynb",
   "provenance": []
  },
  "kernelspec": {
   "display_name": "Julia 1.4.0",
   "language": "julia",
   "name": "julia-1.4"
  },
  "language_info": {
   "file_extension": ".jl",
   "mimetype": "application/julia",
   "name": "julia",
   "version": "1.4.0"
  }
 },
 "nbformat": 4,
 "nbformat_minor": 1
}
