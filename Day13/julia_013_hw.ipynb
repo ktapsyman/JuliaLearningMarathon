{
 "cells": [
  {
   "cell_type": "markdown",
   "metadata": {},
   "source": [
    "## Day 013 作業1：用 Julia 標準函式寫 Sigmoid Function\n",
    "\n",
    "在 Day 002 時我們曾用 LaTeX 撰寫機器學習常見的激活函式 Sigmoid\n",
    "\n",
    "$\\Large f(x)=\\frac{1}{1+e^{-x}}$\n",
    "\n",
    "作業 1 請使用內建函式 `exp()` 來撰寫 Sigmoid 函式，計算矩陣的 sigmoid 值。"
   ]
  },
  {
   "cell_type": "markdown",
   "metadata": {},
   "source": [
    "例如：數字 3 的 sigmoid 值。"
   ]
  },
  {
   "cell_type": "code",
   "execution_count": 11,
   "metadata": {},
   "outputs": [
    {
     "data": {
      "text/plain": [
       "0.9525741268224334"
      ]
     },
     "execution_count": 11,
     "metadata": {},
     "output_type": "execute_result"
    }
   ],
   "source": [
    "1 / (1 + exp(-3))"
   ]
  },
  {
   "cell_type": "markdown",
   "metadata": {},
   "source": [
    "宣告及建立矩陣"
   ]
  },
  {
   "cell_type": "code",
   "execution_count": 2,
   "metadata": {},
   "outputs": [
    {
     "data": {
      "text/plain": [
       "3×5 Array{Int64,2}:\n",
       " 1  10  3  4   6\n",
       " 4   2  4  5  10\n",
       " 8   5  3  5   9"
      ]
     },
     "execution_count": 2,
     "metadata": {},
     "output_type": "execute_result"
    }
   ],
   "source": [
    "A = Matrix([1 10 3 4 6; 4 2 4 5 10; 8 5 3 5 9])"
   ]
  },
  {
   "cell_type": "code",
   "execution_count": 13,
   "metadata": {},
   "outputs": [
    {
     "data": {
      "text/plain": [
       "sigmoid (generic function with 1 method)"
      ]
     },
     "execution_count": 13,
     "metadata": {},
     "output_type": "execute_result"
    }
   ],
   "source": [
    "# 請在此撰寫計算 sigmoid\n",
    "function sigmoid(mat)\n",
    "    return 1.0 ./ (1.0 .+ exp.(-mat))\n",
    "end"
   ]
  },
  {
   "cell_type": "code",
   "execution_count": 14,
   "metadata": {},
   "outputs": [
    {
     "data": {
      "text/plain": [
       "3×5 Array{Float64,2}:\n",
       " 0.731059  0.999955  0.952574  0.982014  0.997527\n",
       " 0.982014  0.880797  0.982014  0.993307  0.999955\n",
       " 0.999665  0.993307  0.952574  0.993307  0.999877"
      ]
     },
     "execution_count": 14,
     "metadata": {},
     "output_type": "execute_result"
    }
   ],
   "source": [
    "sigmoid(A)"
   ]
  },
  {
   "cell_type": "markdown",
   "metadata": {},
   "source": [
    "## 作業2：線性代數基礎運算 Matrix Multiplication 及 Addition\n",
    "\n",
    "假設 A 是 $n\\times m$ 的矩陣，B 是 $m\\times p$ 的矩陣，則矩陣乘法的積 AB 是 $\\displaystyle n\\times p$ 的矩陣。\n",
    "\n",
    "作業2 請撰寫程式，隨機產生矩陣 $W$ 及 $X$，計算線性方程式 $WX+b$。\n",
    "\n",
    "【提示】點運算的介紹，可回顧 Day 005 內容及範例。"
   ]
  },
  {
   "cell_type": "code",
   "execution_count": 15,
   "metadata": {},
   "outputs": [
    {
     "data": {
      "text/plain": [
       "1.0"
      ]
     },
     "execution_count": 15,
     "metadata": {},
     "output_type": "execute_result"
    }
   ],
   "source": [
    "# 給定 bias 變數值\n",
    "# 這邊給定的是純量，在矩陣加法中透過 broadcasting 進行加法\n",
    "b = 1.0"
   ]
  },
  {
   "cell_type": "code",
   "execution_count": 23,
   "metadata": {},
   "outputs": [
    {
     "name": "stdout",
     "output_type": "stream",
     "text": [
      "6\n",
      "10\n",
      "5\n"
     ]
    }
   ],
   "source": [
    "n = rand(1:10)\n",
    "m = rand(1:10)\n",
    "p = rand(1:10)\n",
    "println(n)\n",
    "println(m)\n",
    "println(p)"
   ]
  },
  {
   "cell_type": "code",
   "execution_count": 24,
   "metadata": {},
   "outputs": [
    {
     "data": {
      "text/plain": [
       "6×10 Array{Float64,2}:\n",
       "  0.293052   0.874514   1.94288     …   0.703924    0.0900949  -0.308988\n",
       "  1.22871    0.373618   0.63196         0.418981   -1.24924    -0.335411\n",
       "  0.911673  -1.41584   -0.0904457       0.836402    0.484573    0.671455\n",
       " -0.399679  -0.722726   0.00511842     -0.460018    0.411965    0.561944\n",
       "  0.884189   0.722316  -0.0587242       0.385516    2.00445    -0.523497\n",
       "  1.22644    2.35446   -0.97178     …  -0.0656919  -0.69294    -0.553438"
      ]
     },
     "execution_count": 24,
     "metadata": {},
     "output_type": "execute_result"
    }
   ],
   "source": [
    "w = randn((n,m)) # 請在此撰寫程式"
   ]
  },
  {
   "cell_type": "code",
   "execution_count": 25,
   "metadata": {},
   "outputs": [
    {
     "data": {
      "text/plain": [
       "10×5 Array{Float64,2}:\n",
       "  0.969882  -0.301558   -0.269035    1.16485    -1.22159\n",
       " -0.216302   0.427941   -0.536591    1.80644     0.336278\n",
       "  0.993279   2.67099    -0.89527     1.03553     0.126375\n",
       " -0.204222  -1.854       1.31328     0.0765718  -1.21749\n",
       " -0.62948    0.512757    0.423535   -0.732636    1.19897\n",
       "  1.52253    0.711245   -0.540491    0.999544   -0.343067\n",
       " -0.31051    0.826856    0.0705612   0.721745    3.10996\n",
       " -0.286009  -0.0714825   0.290955   -0.382506    0.867527\n",
       " -0.893562   0.728827   -0.590001   -0.825029    0.942421\n",
       " -0.644648  -0.877349    0.119873   -0.283957   -1.22922"
      ]
     },
     "execution_count": 25,
     "metadata": {},
     "output_type": "execute_result"
    }
   ],
   "source": [
    "X = randn((m, p))# 請在此撰寫程式"
   ]
  },
  {
   "cell_type": "code",
   "execution_count": 26,
   "metadata": {},
   "outputs": [
    {
     "data": {
      "text/plain": [
       "6×5 Array{Float64,2}:\n",
       "  4.08873   7.59379    -2.43014    5.02168    0.932336\n",
       "  5.66805   0.0313427   0.282391   5.16595   -6.32602\n",
       " -2.11465  -1.27263     3.22713   -2.43888    3.72356\n",
       " -1.39303   2.6956      1.17228   -0.936805   6.76321\n",
       "  3.30997   4.11552    -2.5665     2.70735   -0.396092\n",
       "  0.18423  -3.28251     2.24275    6.35657    0.473588"
      ]
     },
     "execution_count": 26,
     "metadata": {},
     "output_type": "execute_result"
    }
   ],
   "source": [
    "# 請在此撰寫計算線性方程式\n",
    "w*X .+ b"
   ]
  },
  {
   "cell_type": "code",
   "execution_count": 27,
   "metadata": {},
   "outputs": [
    {
     "data": {
      "text/plain": [
       "(6, 5)"
      ]
     },
     "execution_count": 27,
     "metadata": {},
     "output_type": "execute_result"
    }
   ],
   "source": [
    "size(w*X .+ b)"
   ]
  }
 ],
 "metadata": {
  "kernelspec": {
   "display_name": "Julia 1.4.0",
   "language": "julia",
   "name": "julia-1.4"
  },
  "language_info": {
   "file_extension": ".jl",
   "mimetype": "application/julia",
   "name": "julia",
   "version": "1.4.0"
  }
 },
 "nbformat": 4,
 "nbformat_minor": 4
}
