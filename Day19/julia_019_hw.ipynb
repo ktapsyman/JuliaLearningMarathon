{
 "cells": [
  {
   "cell_type": "markdown",
   "metadata": {
    "colab_type": "text",
    "id": "CymtLvLsl4iT"
   },
   "source": [
    "## Day 019 作業：DataFrame 的排序及顯示\n",
    "\n",
    "同 Day 017，請載入 2020/4/2 COVID-19 Daily Report 資料集，計算每個國家/區域的累計確診人數。\n",
    "\n",
    "請依確診案例數，列出截至4月2日為止 (UTC 時間)，確診案例最多的10個國家/區域。"
   ]
  },
  {
   "cell_type": "code",
   "execution_count": 2,
   "metadata": {
    "colab": {},
    "colab_type": "code",
    "id": "czd81DRQl4iW"
   },
   "outputs": [],
   "source": [
    "using DataFrames, CSV"
   ]
  },
  {
   "cell_type": "code",
   "execution_count": 3,
   "metadata": {
    "colab": {},
    "colab_type": "code",
    "id": "sLp0Kx89l4ic"
   },
   "outputs": [
    {
     "data": {
      "text/html": [
       "<table class=\"data-frame\"><thead><tr><th></th><th>FIPS</th><th>Admin2</th><th>Province_State</th><th>Country_Region</th><th>Last_Update</th><th>Lat</th></tr><tr><th></th><th>Int64⍰</th><th>String⍰</th><th>String⍰</th><th>String</th><th>String</th><th>Float64⍰</th></tr></thead><tbody><p>2,569 rows × 12 columns (omitted printing of 6 columns)</p><tr><th>1</th><td>45001</td><td>Abbeville</td><td>South Carolina</td><td>US</td><td>2020-04-02 23:25:27</td><td>34.2233</td></tr><tr><th>2</th><td>22001</td><td>Acadia</td><td>Louisiana</td><td>US</td><td>2020-04-02 23:25:27</td><td>30.2951</td></tr><tr><th>3</th><td>51001</td><td>Accomack</td><td>Virginia</td><td>US</td><td>2020-04-02 23:25:27</td><td>37.7671</td></tr><tr><th>4</th><td>16001</td><td>Ada</td><td>Idaho</td><td>US</td><td>2020-04-02 23:25:27</td><td>43.4527</td></tr><tr><th>5</th><td>19001</td><td>Adair</td><td>Iowa</td><td>US</td><td>2020-04-02 23:25:27</td><td>41.3308</td></tr><tr><th>6</th><td>29001</td><td>Adair</td><td>Missouri</td><td>US</td><td>2020-04-02 23:25:27</td><td>40.1906</td></tr><tr><th>7</th><td>40001</td><td>Adair</td><td>Oklahoma</td><td>US</td><td>2020-04-02 23:25:27</td><td>35.8849</td></tr><tr><th>8</th><td>8001</td><td>Adams</td><td>Colorado</td><td>US</td><td>2020-04-02 23:25:27</td><td>39.8743</td></tr><tr><th>9</th><td>16003</td><td>Adams</td><td>Idaho</td><td>US</td><td>2020-04-02 23:25:27</td><td>44.8933</td></tr><tr><th>10</th><td>17001</td><td>Adams</td><td>Illinois</td><td>US</td><td>2020-04-02 23:25:27</td><td>39.9882</td></tr><tr><th>11</th><td>18001</td><td>Adams</td><td>Indiana</td><td>US</td><td>2020-04-02 23:25:27</td><td>40.7458</td></tr><tr><th>12</th><td>28001</td><td>Adams</td><td>Mississippi</td><td>US</td><td>2020-04-02 23:25:27</td><td>31.4767</td></tr><tr><th>13</th><td>31001</td><td>Adams</td><td>Nebraska</td><td>US</td><td>2020-04-02 23:25:27</td><td>40.5245</td></tr><tr><th>14</th><td>42001</td><td>Adams</td><td>Pennsylvania</td><td>US</td><td>2020-04-02 23:25:27</td><td>39.8714</td></tr><tr><th>15</th><td>53001</td><td>Adams</td><td>Washington</td><td>US</td><td>2020-04-02 23:25:27</td><td>46.983</td></tr><tr><th>16</th><td>55001</td><td>Adams</td><td>Wisconsin</td><td>US</td><td>2020-04-02 23:25:27</td><td>43.9697</td></tr><tr><th>17</th><td>50001</td><td>Addison</td><td>Vermont</td><td>US</td><td>2020-04-02 23:25:27</td><td>44.0322</td></tr><tr><th>18</th><td>45003</td><td>Aiken</td><td>South Carolina</td><td>US</td><td>2020-04-02 23:25:27</td><td>33.5434</td></tr><tr><th>19</th><td>12001</td><td>Alachua</td><td>Florida</td><td>US</td><td>2020-04-02 23:25:27</td><td>29.6787</td></tr><tr><th>20</th><td>37001</td><td>Alamance</td><td>North Carolina</td><td>US</td><td>2020-04-02 23:25:27</td><td>36.0435</td></tr><tr><th>21</th><td>6001</td><td>Alameda</td><td>California</td><td>US</td><td>2020-04-02 23:25:27</td><td>37.6463</td></tr><tr><th>22</th><td>8003</td><td>Alamosa</td><td>Colorado</td><td>US</td><td>2020-04-02 23:25:27</td><td>37.5725</td></tr><tr><th>23</th><td>36001</td><td>Albany</td><td>New York</td><td>US</td><td>2020-04-02 23:25:27</td><td>42.6006</td></tr><tr><th>24</th><td>56001</td><td>Albany</td><td>Wyoming</td><td>US</td><td>2020-04-02 23:25:27</td><td>41.655</td></tr><tr><th>25</th><td>51003</td><td>Albemarle</td><td>Virginia</td><td>US</td><td>2020-04-02 23:25:27</td><td>38.0208</td></tr><tr><th>26</th><td>28003</td><td>Alcorn</td><td>Mississippi</td><td>US</td><td>2020-04-02 23:25:27</td><td>34.8808</td></tr><tr><th>27</th><td>37003</td><td>Alexander</td><td>North Carolina</td><td>US</td><td>2020-04-02 23:25:27</td><td>35.9224</td></tr><tr><th>28</th><td>51510</td><td>Alexandria</td><td>Virginia</td><td>US</td><td>2020-04-02 23:25:27</td><td>38.814</td></tr><tr><th>29</th><td>19005</td><td>Allamakee</td><td>Iowa</td><td>US</td><td>2020-04-02 23:25:27</td><td>43.2838</td></tr><tr><th>30</th><td>26005</td><td>Allegan</td><td>Michigan</td><td>US</td><td>2020-04-02 23:25:27</td><td>42.5915</td></tr><tr><th>&vellip;</th><td>&vellip;</td><td>&vellip;</td><td>&vellip;</td><td>&vellip;</td><td>&vellip;</td><td>&vellip;</td></tr></tbody></table>"
      ],
      "text/latex": [
       "\\begin{tabular}{r|ccccccc}\n",
       "\t& FIPS & Admin2 & Province\\_State & Country\\_Region & Last\\_Update & Lat & \\\\\n",
       "\t\\hline\n",
       "\t& Int64⍰ & String⍰ & String⍰ & String & String & Float64⍰ & \\\\\n",
       "\t\\hline\n",
       "\t1 & 45001 & Abbeville & South Carolina & US & 2020-04-02 23:25:27 & 34.2233 & $\\dots$ \\\\\n",
       "\t2 & 22001 & Acadia & Louisiana & US & 2020-04-02 23:25:27 & 30.2951 & $\\dots$ \\\\\n",
       "\t3 & 51001 & Accomack & Virginia & US & 2020-04-02 23:25:27 & 37.7671 & $\\dots$ \\\\\n",
       "\t4 & 16001 & Ada & Idaho & US & 2020-04-02 23:25:27 & 43.4527 & $\\dots$ \\\\\n",
       "\t5 & 19001 & Adair & Iowa & US & 2020-04-02 23:25:27 & 41.3308 & $\\dots$ \\\\\n",
       "\t6 & 29001 & Adair & Missouri & US & 2020-04-02 23:25:27 & 40.1906 & $\\dots$ \\\\\n",
       "\t7 & 40001 & Adair & Oklahoma & US & 2020-04-02 23:25:27 & 35.8849 & $\\dots$ \\\\\n",
       "\t8 & 8001 & Adams & Colorado & US & 2020-04-02 23:25:27 & 39.8743 & $\\dots$ \\\\\n",
       "\t9 & 16003 & Adams & Idaho & US & 2020-04-02 23:25:27 & 44.8933 & $\\dots$ \\\\\n",
       "\t10 & 17001 & Adams & Illinois & US & 2020-04-02 23:25:27 & 39.9882 & $\\dots$ \\\\\n",
       "\t11 & 18001 & Adams & Indiana & US & 2020-04-02 23:25:27 & 40.7458 & $\\dots$ \\\\\n",
       "\t12 & 28001 & Adams & Mississippi & US & 2020-04-02 23:25:27 & 31.4767 & $\\dots$ \\\\\n",
       "\t13 & 31001 & Adams & Nebraska & US & 2020-04-02 23:25:27 & 40.5245 & $\\dots$ \\\\\n",
       "\t14 & 42001 & Adams & Pennsylvania & US & 2020-04-02 23:25:27 & 39.8714 & $\\dots$ \\\\\n",
       "\t15 & 53001 & Adams & Washington & US & 2020-04-02 23:25:27 & 46.983 & $\\dots$ \\\\\n",
       "\t16 & 55001 & Adams & Wisconsin & US & 2020-04-02 23:25:27 & 43.9697 & $\\dots$ \\\\\n",
       "\t17 & 50001 & Addison & Vermont & US & 2020-04-02 23:25:27 & 44.0322 & $\\dots$ \\\\\n",
       "\t18 & 45003 & Aiken & South Carolina & US & 2020-04-02 23:25:27 & 33.5434 & $\\dots$ \\\\\n",
       "\t19 & 12001 & Alachua & Florida & US & 2020-04-02 23:25:27 & 29.6787 & $\\dots$ \\\\\n",
       "\t20 & 37001 & Alamance & North Carolina & US & 2020-04-02 23:25:27 & 36.0435 & $\\dots$ \\\\\n",
       "\t21 & 6001 & Alameda & California & US & 2020-04-02 23:25:27 & 37.6463 & $\\dots$ \\\\\n",
       "\t22 & 8003 & Alamosa & Colorado & US & 2020-04-02 23:25:27 & 37.5725 & $\\dots$ \\\\\n",
       "\t23 & 36001 & Albany & New York & US & 2020-04-02 23:25:27 & 42.6006 & $\\dots$ \\\\\n",
       "\t24 & 56001 & Albany & Wyoming & US & 2020-04-02 23:25:27 & 41.655 & $\\dots$ \\\\\n",
       "\t25 & 51003 & Albemarle & Virginia & US & 2020-04-02 23:25:27 & 38.0208 & $\\dots$ \\\\\n",
       "\t26 & 28003 & Alcorn & Mississippi & US & 2020-04-02 23:25:27 & 34.8808 & $\\dots$ \\\\\n",
       "\t27 & 37003 & Alexander & North Carolina & US & 2020-04-02 23:25:27 & 35.9224 & $\\dots$ \\\\\n",
       "\t28 & 51510 & Alexandria & Virginia & US & 2020-04-02 23:25:27 & 38.814 & $\\dots$ \\\\\n",
       "\t29 & 19005 & Allamakee & Iowa & US & 2020-04-02 23:25:27 & 43.2838 & $\\dots$ \\\\\n",
       "\t30 & 26005 & Allegan & Michigan & US & 2020-04-02 23:25:27 & 42.5915 & $\\dots$ \\\\\n",
       "\t$\\dots$ & $\\dots$ & $\\dots$ & $\\dots$ & $\\dots$ & $\\dots$ & $\\dots$ &  \\\\\n",
       "\\end{tabular}\n"
      ],
      "text/plain": [
       "2569×12 DataFrame. Omitted printing of 8 columns\n",
       "│ Row  │ FIPS    │ Admin2     │ Province_State │ Country_Region       │\n",
       "│      │ \u001b[90mInt64⍰\u001b[39m  │ \u001b[90mString⍰\u001b[39m    │ \u001b[90mString⍰\u001b[39m        │ \u001b[90mString\u001b[39m               │\n",
       "├──────┼─────────┼────────────┼────────────────┼──────────────────────┤\n",
       "│ 1    │ 45001   │ Abbeville  │ South Carolina │ US                   │\n",
       "│ 2    │ 22001   │ Acadia     │ Louisiana      │ US                   │\n",
       "│ 3    │ 51001   │ Accomack   │ Virginia       │ US                   │\n",
       "│ 4    │ 16001   │ Ada        │ Idaho          │ US                   │\n",
       "│ 5    │ 19001   │ Adair      │ Iowa           │ US                   │\n",
       "│ 6    │ 29001   │ Adair      │ Missouri       │ US                   │\n",
       "│ 7    │ 40001   │ Adair      │ Oklahoma       │ US                   │\n",
       "│ 8    │ 8001    │ Adams      │ Colorado       │ US                   │\n",
       "│ 9    │ 16003   │ Adams      │ Idaho          │ US                   │\n",
       "│ 10   │ 17001   │ Adams      │ Illinois       │ US                   │\n",
       "⋮\n",
       "│ 2559 │ \u001b[90mmissing\u001b[39m │ \u001b[90mmissing\u001b[39m    │ \u001b[90mmissing\u001b[39m        │ Ukraine              │\n",
       "│ 2560 │ \u001b[90mmissing\u001b[39m │ \u001b[90mmissing\u001b[39m    │ \u001b[90mmissing\u001b[39m        │ United Arab Emirates │\n",
       "│ 2561 │ \u001b[90mmissing\u001b[39m │ \u001b[90mmissing\u001b[39m    │ \u001b[90mmissing\u001b[39m        │ United Kingdom       │\n",
       "│ 2562 │ \u001b[90mmissing\u001b[39m │ \u001b[90mmissing\u001b[39m    │ \u001b[90mmissing\u001b[39m        │ Uruguay              │\n",
       "│ 2563 │ \u001b[90mmissing\u001b[39m │ \u001b[90mmissing\u001b[39m    │ \u001b[90mmissing\u001b[39m        │ Uzbekistan           │\n",
       "│ 2564 │ \u001b[90mmissing\u001b[39m │ \u001b[90mmissing\u001b[39m    │ \u001b[90mmissing\u001b[39m        │ Venezuela            │\n",
       "│ 2565 │ \u001b[90mmissing\u001b[39m │ \u001b[90mmissing\u001b[39m    │ \u001b[90mmissing\u001b[39m        │ Vietnam              │\n",
       "│ 2566 │ \u001b[90mmissing\u001b[39m │ \u001b[90mmissing\u001b[39m    │ \u001b[90mmissing\u001b[39m        │ West Bank and Gaza   │\n",
       "│ 2567 │ \u001b[90mmissing\u001b[39m │ \u001b[90mmissing\u001b[39m    │ \u001b[90mmissing\u001b[39m        │ Zambia               │\n",
       "│ 2568 │ \u001b[90mmissing\u001b[39m │ \u001b[90mmissing\u001b[39m    │ \u001b[90mmissing\u001b[39m        │ Zimbabwe             │\n",
       "│ 2569 │ \u001b[90mmissing\u001b[39m │ unassigned │ Wyoming        │ US                   │"
      ]
     },
     "execution_count": 3,
     "metadata": {},
     "output_type": "execute_result"
    }
   ],
   "source": [
    "df = CSV.read(\"04-02-2020.csv\")"
   ]
  },
  {
   "cell_type": "code",
   "execution_count": 4,
   "metadata": {},
   "outputs": [
    {
     "name": "stdout",
     "output_type": "stream",
     "text": [
      "2569×12 DataFrame\n",
      "│ Row  │ FIPS    │ Admin2     │ Province_State │ Country_Region       │\n",
      "│      │ \u001b[90mInt64⍰\u001b[39m  │ \u001b[90mString⍰\u001b[39m    │ \u001b[90mString⍰\u001b[39m        │ \u001b[90mString\u001b[39m               │\n",
      "├──────┼─────────┼────────────┼────────────────┼──────────────────────┤\n",
      "│ 1    │ 45001   │ Abbeville  │ South Carolina │ US                   │\n",
      "│ 2    │ 22001   │ Acadia     │ Louisiana      │ US                   │\n",
      "│ 3    │ 51001   │ Accomack   │ Virginia       │ US                   │\n",
      "│ 4    │ 16001   │ Ada        │ Idaho          │ US                   │\n",
      "│ 5    │ 19001   │ Adair      │ Iowa           │ US                   │\n",
      "│ 6    │ 29001   │ Adair      │ Missouri       │ US                   │\n",
      "│ 7    │ 40001   │ Adair      │ Oklahoma       │ US                   │\n",
      "│ 8    │ 8001    │ Adams      │ Colorado       │ US                   │\n",
      "│ 9    │ 16003   │ Adams      │ Idaho          │ US                   │\n",
      "│ 10   │ 17001   │ Adams      │ Illinois       │ US                   │\n",
      "⋮\n",
      "│ 2559 │ \u001b[90mmissing\u001b[39m │ \u001b[90mmissing\u001b[39m    │ \u001b[90mmissing\u001b[39m        │ Ukraine              │\n",
      "│ 2560 │ \u001b[90mmissing\u001b[39m │ \u001b[90mmissing\u001b[39m    │ \u001b[90mmissing\u001b[39m        │ United Arab Emirates │\n",
      "│ 2561 │ \u001b[90mmissing\u001b[39m │ \u001b[90mmissing\u001b[39m    │ \u001b[90mmissing\u001b[39m        │ United Kingdom       │\n",
      "│ 2562 │ \u001b[90mmissing\u001b[39m │ \u001b[90mmissing\u001b[39m    │ \u001b[90mmissing\u001b[39m        │ Uruguay              │\n",
      "│ 2563 │ \u001b[90mmissing\u001b[39m │ \u001b[90mmissing\u001b[39m    │ \u001b[90mmissing\u001b[39m        │ Uzbekistan           │\n",
      "│ 2564 │ \u001b[90mmissing\u001b[39m │ \u001b[90mmissing\u001b[39m    │ \u001b[90mmissing\u001b[39m        │ Venezuela            │\n",
      "│ 2565 │ \u001b[90mmissing\u001b[39m │ \u001b[90mmissing\u001b[39m    │ \u001b[90mmissing\u001b[39m        │ Vietnam              │\n",
      "│ 2566 │ \u001b[90mmissing\u001b[39m │ \u001b[90mmissing\u001b[39m    │ \u001b[90mmissing\u001b[39m        │ West Bank and Gaza   │\n",
      "│ 2567 │ \u001b[90mmissing\u001b[39m │ \u001b[90mmissing\u001b[39m    │ \u001b[90mmissing\u001b[39m        │ Zambia               │\n",
      "│ 2568 │ \u001b[90mmissing\u001b[39m │ \u001b[90mmissing\u001b[39m    │ \u001b[90mmissing\u001b[39m        │ Zimbabwe             │\n",
      "│ 2569 │ \u001b[90mmissing\u001b[39m │ unassigned │ Wyoming        │ US                   │\n",
      "\n",
      "│ Row  │ Last_Update         │ Lat      │ Long_    │ Confirmed │ Deaths │\n",
      "│      │ \u001b[90mString\u001b[39m              │ \u001b[90mFloat64⍰\u001b[39m │ \u001b[90mFloat64⍰\u001b[39m │ \u001b[90mInt64\u001b[39m     │ \u001b[90mInt64\u001b[39m  │\n",
      "├──────┼─────────────────────┼──────────┼──────────┼───────────┼────────┤\n",
      "│ 1    │ 2020-04-02 23:25:27 │ 34.2233  │ -82.4617 │ 6         │ 0      │\n",
      "│ 2    │ 2020-04-02 23:25:27 │ 30.2951  │ -92.4142 │ 61        │ 1      │\n",
      "│ 3    │ 2020-04-02 23:25:27 │ 37.7671  │ -75.6323 │ 10        │ 0      │\n",
      "│ 4    │ 2020-04-02 23:25:27 │ 43.4527  │ -116.242 │ 312       │ 3      │\n",
      "│ 5    │ 2020-04-02 23:25:27 │ 41.3308  │ -94.4711 │ 1         │ 0      │\n",
      "│ 6    │ 2020-04-02 23:25:27 │ 40.1906  │ -92.6008 │ 6         │ 0      │\n",
      "│ 7    │ 2020-04-02 23:25:27 │ 35.8849  │ -94.6586 │ 9         │ 0      │\n",
      "│ 8    │ 2020-04-02 23:25:27 │ 39.8743  │ -104.336 │ 212       │ 2      │\n",
      "│ 9    │ 2020-04-02 23:25:27 │ 44.8933  │ -116.455 │ 1         │ 0      │\n",
      "│ 10   │ 2020-04-02 23:25:27 │ 39.9882  │ -91.1879 │ 2         │ 0      │\n",
      "⋮\n",
      "│ 2559 │ 2020-04-02 23:25:14 │ 48.3794  │ 31.1656  │ 897       │ 22     │\n",
      "│ 2560 │ 2020-04-02 23:25:14 │ 23.4241  │ 53.8478  │ 1024      │ 8      │\n",
      "│ 2561 │ 2020-04-02 23:25:14 │ 55.3781  │ -3.436   │ 33718     │ 2921   │\n",
      "│ 2562 │ 2020-04-02 23:25:14 │ -32.5228 │ -55.7658 │ 350       │ 4      │\n",
      "│ 2563 │ 2020-04-02 23:25:14 │ 41.3775  │ 64.5853  │ 205       │ 2      │\n",
      "│ 2564 │ 2020-04-02 23:25:14 │ 6.4238   │ -66.5897 │ 146       │ 5      │\n",
      "│ 2565 │ 2020-04-02 23:25:14 │ 14.0583  │ 108.277  │ 233       │ 0      │\n",
      "│ 2566 │ 2020-04-02 23:25:14 │ 31.9522  │ 35.2332  │ 161       │ 1      │\n",
      "│ 2567 │ 2020-04-02 23:25:14 │ -13.1339 │ 27.8493  │ 39        │ 1      │\n",
      "│ 2568 │ 2020-04-02 23:25:14 │ -19.0154 │ 29.1549  │ 9         │ 1      │\n",
      "│ 2569 │ 2020-04-02 23:25:27 │ \u001b[90mmissing\u001b[39m  │ \u001b[90mmissing\u001b[39m  │ 0         │ 0      │\n",
      "\n",
      "│ Row  │ Recovered │ Active │ Combined_Key                  │\n",
      "│      │ \u001b[90mInt64\u001b[39m     │ \u001b[90mInt64\u001b[39m  │ \u001b[90mString\u001b[39m                        │\n",
      "├──────┼───────────┼────────┼───────────────────────────────┤\n",
      "│ 1    │ 0         │ 0      │ Abbeville, South Carolina, US │\n",
      "│ 2    │ 0         │ 0      │ Acadia, Louisiana, US         │\n",
      "│ 3    │ 0         │ 0      │ Accomack, Virginia, US        │\n",
      "│ 4    │ 0         │ 0      │ Ada, Idaho, US                │\n",
      "│ 5    │ 0         │ 0      │ Adair, Iowa, US               │\n",
      "│ 6    │ 0         │ 0      │ Adair, Missouri, US           │\n",
      "│ 7    │ 0         │ 0      │ Adair, Oklahoma, US           │\n",
      "│ 8    │ 0         │ 0      │ Adams, Colorado, US           │\n",
      "│ 9    │ 0         │ 0      │ Adams,Idaho,US                │\n",
      "│ 10   │ 0         │ 0      │ Adams, Illinois, US           │\n",
      "⋮\n",
      "│ 2559 │ 19        │ 856    │ Ukraine                       │\n",
      "│ 2560 │ 96        │ 920    │ United Arab Emirates          │\n",
      "│ 2561 │ 135       │ 30662  │ United Kingdom                │\n",
      "│ 2562 │ 62        │ 284    │ Uruguay                       │\n",
      "│ 2563 │ 25        │ 178    │ Uzbekistan                    │\n",
      "│ 2564 │ 43        │ 98     │ Venezuela                     │\n",
      "│ 2565 │ 75        │ 158    │ Vietnam                       │\n",
      "│ 2566 │ 18        │ 142    │ West Bank and Gaza            │\n",
      "│ 2567 │ 0         │ 38     │ Zambia                        │\n",
      "│ 2568 │ 0         │ 8      │ Zimbabwe                      │\n",
      "│ 2569 │ 0         │ 0      │ unassigned, Wyoming, US       │"
     ]
    }
   ],
   "source": [
    "show(df, allcols=true)"
   ]
  },
  {
   "cell_type": "code",
   "execution_count": 11,
   "metadata": {
    "colab": {},
    "colab_type": "code",
    "id": "XFKjf3bVl4ih"
   },
   "outputs": [
    {
     "data": {
      "text/html": [
       "<table class=\"data-frame\"><thead><tr><th></th><th>Country_Region</th><th>Confirmed_sum</th></tr><tr><th></th><th>String</th><th>Int64</th></tr></thead><tbody><p>10 rows × 2 columns</p><tr><th>1</th><td>US</td><td>243453</td></tr><tr><th>2</th><td>Canada</td><td>11284</td></tr><tr><th>3</th><td>United Kingdom</td><td>34173</td></tr><tr><th>4</th><td>China</td><td>82432</td></tr><tr><th>5</th><td>Netherlands</td><td>14788</td></tr><tr><th>6</th><td>Australia</td><td>5116</td></tr><tr><th>7</th><td>Denmark</td><td>3573</td></tr><tr><th>8</th><td>France</td><td>59929</td></tr><tr><th>9</th><td>Afghanistan</td><td>273</td></tr><tr><th>10</th><td>Albania</td><td>277</td></tr></tbody></table>"
      ],
      "text/latex": [
       "\\begin{tabular}{r|cc}\n",
       "\t& Country\\_Region & Confirmed\\_sum\\\\\n",
       "\t\\hline\n",
       "\t& String & Int64\\\\\n",
       "\t\\hline\n",
       "\t1 & US & 243453 \\\\\n",
       "\t2 & Canada & 11284 \\\\\n",
       "\t3 & United Kingdom & 34173 \\\\\n",
       "\t4 & China & 82432 \\\\\n",
       "\t5 & Netherlands & 14788 \\\\\n",
       "\t6 & Australia & 5116 \\\\\n",
       "\t7 & Denmark & 3573 \\\\\n",
       "\t8 & France & 59929 \\\\\n",
       "\t9 & Afghanistan & 273 \\\\\n",
       "\t10 & Albania & 277 \\\\\n",
       "\\end{tabular}\n"
      ],
      "text/plain": [
       "10×2 DataFrame\n",
       "│ Row │ Country_Region │ Confirmed_sum │\n",
       "│     │ \u001b[90mString\u001b[39m         │ \u001b[90mInt64\u001b[39m         │\n",
       "├─────┼────────────────┼───────────────┤\n",
       "│ 1   │ US             │ 243453        │\n",
       "│ 2   │ Canada         │ 11284         │\n",
       "│ 3   │ United Kingdom │ 34173         │\n",
       "│ 4   │ China          │ 82432         │\n",
       "│ 5   │ Netherlands    │ 14788         │\n",
       "│ 6   │ Australia      │ 5116          │\n",
       "│ 7   │ Denmark        │ 3573          │\n",
       "│ 8   │ France         │ 59929         │\n",
       "│ 9   │ Afghanistan    │ 273           │\n",
       "│ 10  │ Albania        │ 277           │"
      ]
     },
     "execution_count": 11,
     "metadata": {},
     "output_type": "execute_result"
    }
   ],
   "source": [
    "# 請在此輸入程式碼\n",
    "confirmedDF = by(df, :Country_Region, :Confirmed => sum);\n",
    "sort(confirmedDF, :Confirmed_sum, rev=true);\n",
    "first(confirmedDF, 10)"
   ]
  }
 ],
 "metadata": {
  "colab": {
   "name": "julia_019_hw.ipynb",
   "provenance": []
  },
  "kernelspec": {
   "display_name": "Julia 1.4.0",
   "language": "julia",
   "name": "julia-1.4"
  },
  "language_info": {
   "file_extension": ".jl",
   "mimetype": "application/julia",
   "name": "julia",
   "version": "1.4.0"
  }
 },
 "nbformat": 4,
 "nbformat_minor": 1
}
